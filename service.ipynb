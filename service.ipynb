{
 "cells": [
  {
   "cell_type": "code",
   "execution_count": 1,
   "metadata": {},
   "outputs": [
    {
     "ename": "ImportError",
     "evalue": "cannot import name 'Account' from 'enhanced_lib.exchange' (/home/beesama/projects/bot-trader/enhanced-lib/python/enhanced_lib/exchange/__init__.py)",
     "output_type": "error",
     "traceback": [
      "\u001b[0;31m---------------------------------------------------------------------------\u001b[0m",
      "\u001b[0;31mImportError\u001b[0m                               Traceback (most recent call last)",
      "\u001b[1;32m/home/beesama/projects/bot-trader/enhanced-lib/service.ipynb Cell 1\u001b[0m line \u001b[0;36m1\n\u001b[0;32m----> <a href='vscode-notebook-cell:/home/beesama/projects/bot-trader/enhanced-lib/service.ipynb#W0sZmlsZQ%3D%3D?line=0'>1</a>\u001b[0m \u001b[39mfrom\u001b[39;00m \u001b[39menhanced_lib\u001b[39;00m\u001b[39m.\u001b[39;00m\u001b[39mexchange\u001b[39;00m \u001b[39mimport\u001b[39;00m Account,ExchangeCache\n\u001b[1;32m      <a href='vscode-notebook-cell:/home/beesama/projects/bot-trader/enhanced-lib/service.ipynb#W0sZmlsZQ%3D%3D?line=1'>2</a>\u001b[0m \u001b[39mfrom\u001b[39;00m \u001b[39menhanced_lib\u001b[39;00m\u001b[39m.\u001b[39;00m\u001b[39mexchange\u001b[39;00m\u001b[39m.\u001b[39;00m\u001b[39mcache\u001b[39;00m \u001b[39mimport\u001b[39;00m FutureInstance\n\u001b[1;32m      <a href='vscode-notebook-cell:/home/beesama/projects/bot-trader/enhanced-lib/service.ipynb#W0sZmlsZQ%3D%3D?line=2'>3</a>\u001b[0m \u001b[39mfrom\u001b[39;00m \u001b[39menhanced_lib\u001b[39;00m\u001b[39m.\u001b[39;00m\u001b[39mcalculations\u001b[39;00m \u001b[39mimport\u001b[39;00m workers\n",
      "\u001b[0;31mImportError\u001b[0m: cannot import name 'Account' from 'enhanced_lib.exchange' (/home/beesama/projects/bot-trader/enhanced-lib/python/enhanced_lib/exchange/__init__.py)"
     ]
    }
   ],
   "source": [
    "from enhanced_lib.exchange import Account,ExchangeCache\n",
    "from enhanced_lib.exchange.cache import FutureInstance\n",
    "from enhanced_lib.calculations import workers\n",
    "\n",
    "account = Account(\"main_account\",'sub_account',base_url='http://localhost:8000')\n",
    "\n",
    "exchange = ExchangeCache(account,'BTCUSDT')\n",
    "\n",
    "# await exchange.fetch_latest(False)\n",
    "\n",
    "# exchange.open_orders.get_tp_orders('long',True)\n",
    "\n",
    "await account.fetch_config('BTCUSDT')\n",
    "await exchange.fetch_latest(True)\n",
    "# exchange.open_orders.get_sl_orders('short',True)\n",
    "# await account.update_config_fields('BTCUSDT',{'budget':400,'max_size':0.21})\n",
    "# await account.update_config_resistance('BTCUSDT')\n",
    "# account.general_config['config']['BTCUSDT']\n",
    "# exchange.future_instance.config.as_dict()\n"
   ]
  },
  {
   "cell_type": "code",
   "execution_count": 3,
   "metadata": {},
   "outputs": [
    {
     "name": "stdout",
     "output_type": "stream",
     "text": [
      "waiting for all trades to be processed []\n",
      "waiting for all trades to be processed []\n",
      "size for risk 6 0.023\n",
      "size for risk 6 0.025\n",
      "size for risk 7 0.028\n",
      "waiting for all trades to be processed []\n",
      "size for risk 7 0.031\n",
      "size for risk 9 0.035\n",
      "waiting for all trades to be processed []\n",
      "size for risk 9 0.039\n",
      "size for risk 12 0.055\n",
      "size for risk 12 0.05\n",
      "waiting for all trades to be processed []\n",
      "size for risk 16 0.075\n",
      "size for risk 16 0.068\n",
      "waiting for all trades to be processed []\n",
      "size for risk 21 0.103\n",
      "size for risk 21 0.094\n",
      "waiting for all trades to be processed []\n",
      "size for risk 27 0.135\n",
      "size for risk 27 0.122\n",
      "waiting for all trades to be processed []\n",
      "size for risk 34 0.174\n",
      "waiting for all trades to be processed []\n",
      "size for risk 34 0.159\n",
      "size for risk 42 0.219\n",
      "waiting for all trades to be processed []\n",
      "size for risk 42 0.202\n",
      "size for risk 51 0.271\n",
      "waiting for all trades to be processed []\n",
      "size for risk 51 0.25\n",
      "waiting for all trades to be processed []\n",
      "size for risk 61 0.332\n",
      "size for risk 61 0.306\n",
      "waiting for all trades to be processed []\n",
      "size for risk 72 0.395\n",
      "waiting for all trades to be processed []\n",
      "size for risk 72 0.365\n",
      "processing result for  44779.3\n",
      "waiting for all trades to be processed [{'stop': 42700.1, 'entry': 44779.3, 'size': 0.4, 'risk_reward': 197, 'risk_per_trade': 72, 'trades': [{'entry': 42701.7, 'risk': 0.365, 'quantity': 0.228, 'sell_price': 44779.3, 'incurred_sell': 44038.4, 'stop': 42700.1, 'pnl': 790.395, 'fee': 7.789, 'net': 945.499, 'incurred': 304.759, 'stop_percent': 0.0, 'rr': 197, 'avg_entry': 42778.3, 'avg_size': 0.395, 'start_entry': 44779.3}, {'entry': 42712.3, 'risk': 0.365, 'quantity': 0.03, 'sell_price': 44779.3, 'incurred_sell': 52820.0, 'stop': 42700.1, 'pnl': 316.682, 'fee': 1.025, 'net': 124.09, 'incurred': 303.232, 'stop_percent': 0.0, 'rr': 197, 'avg_entry': 42883.0, 'avg_size': 0.167, 'start_entry': 44779.3}, {'entry': 42722.9, 'risk': 0.365, 'quantity': 0.016, 'sell_price': 44779.3, 'incurred_sell': 61579.5, 'stop': 42700.1, 'pnl': 254.669, 'fee': 0.547, 'net': 66.012, 'incurred': 301.705, 'stop_percent': 0.001, 'rr': 197, 'avg_entry': 42920.4, 'avg_size': 0.137, 'start_entry': 44779.3}, {'entry': 42733.5, 'risk': 0.365, 'quantity': 0.011, 'sell_price': 44779.3, 'incurred_sell': 70022.4, 'stop': 42700.1, 'pnl': 221.769, 'fee': 0.376, 'net': 45.266, 'incurred': 300.178, 'stop_percent': 0.001, 'rr': 197, 'avg_entry': 42946.5, 'avg_size': 0.121, 'start_entry': 44779.3}, {'entry': 42744.1, 'risk': 0.365, 'quantity': 0.008, 'sell_price': 44779.3, 'incurred_sell': 80075.4, 'stop': 42700.1, 'pnl': 199.265, 'fee': 0.274, 'net': 32.836, 'incurred': 298.65, 'stop_percent': 0.001, 'rr': 197, 'avg_entry': 42967.8, 'avg_size': 0.11, 'start_entry': 44779.3}, {'entry': 42754.7, 'risk': 0.365, 'quantity': 0.007, 'sell_price': 44779.3, 'incurred_sell': 85200.7, 'stop': 42700.1, 'pnl': 182.988, 'fee': 0.239, 'net': 28.657, 'incurred': 297.122, 'stop_percent': 0.001, 'rr': 197, 'avg_entry': 42985.3, 'avg_size': 0.102, 'start_entry': 44779.3}, {'entry': 42765.3, 'risk': 0.365, 'quantity': 0.006, 'sell_price': 44779.3, 'incurred_sell': 92031.0, 'stop': 42700.1, 'pnl': 168.815, 'fee': 0.205, 'net': 24.5, 'incurred': 295.594, 'stop_percent': 0.002, 'rr': 197, 'avg_entry': 43002.3, 'avg_size': 0.095, 'start_entry': 44779.3}, {'entry': 42775.9, 'risk': 0.365, 'quantity': 0.005, 'sell_price': 44779.3, 'incurred_sell': 101588.9, 'stop': 42700.1, 'pnl': 156.729, 'fee': 0.171, 'net': 20.364, 'incurred': 294.065, 'stop_percent': 0.002, 'rr': 197, 'avg_entry': 43018.3, 'avg_size': 0.089, 'start_entry': 44779.3}, {'entry': 42786.5, 'risk': 0.365, 'quantity': 0.004, 'sell_price': 44779.3, 'incurred_sell': 115920.5, 'stop': 42700.1, 'pnl': 146.714, 'fee': 0.137, 'net': 16.248, 'incurred': 292.536, 'stop_percent': 0.002, 'rr': 197, 'avg_entry': 43032.7, 'avg_size': 0.084, 'start_entry': 44779.3}, {'entry': 42797.1, 'risk': 0.365, 'quantity': 0.004, 'sell_price': 44779.3, 'incurred_sell': 115548.9, 'stop': 42700.1, 'pnl': 138.744, 'fee': 0.137, 'net': 16.206, 'incurred': 291.007, 'stop_percent': 0.002, 'rr': 197, 'avg_entry': 43045.0, 'avg_size': 0.08, 'start_entry': 44779.3}, {'entry': 42807.7, 'risk': 0.365, 'quantity': 0.003, 'sell_price': 44779.3, 'incurred_sell': 139300.4, 'stop': 42700.1, 'pnl': 130.811, 'fee': 0.103, 'net': 12.123, 'incurred': 289.478, 'stop_percent': 0.003, 'rr': 197, 'avg_entry': 43058.1, 'avg_size': 0.076, 'start_entry': 44779.3}, {'entry': 42818.3, 'risk': 0.365, 'quantity': 0.003, 'sell_price': 44779.3, 'incurred_sell': 138801.0, 'stop': 42700.1, 'pnl': 124.903, 'fee': 0.103, 'net': 12.091, 'incurred': 287.948, 'stop_percent': 0.003, 'rr': 197, 'avg_entry': 43068.3, 'avg_size': 0.073, 'start_entry': 44779.3}, {'entry': 42828.9, 'risk': 0.365, 'quantity': 0.003, 'sell_price': 44779.3, 'incurred_sell': 138301.6, 'stop': 42700.1, 'pnl': 119.014, 'fee': 0.103, 'net': 12.059, 'incurred': 286.418, 'stop_percent': 0.003, 'rr': 197, 'avg_entry': 43079.1, 'avg_size': 0.07, 'start_entry': 44779.3}, {'entry': 42839.5, 'risk': 0.365, 'quantity': 0.003, 'sell_price': 44779.3, 'incurred_sell': 137802.2, 'stop': 42700.1, 'pnl': 113.163, 'fee': 0.103, 'net': 12.027, 'incurred': 284.888, 'stop_percent': 0.003, 'rr': 197, 'avg_entry': 43090.3, 'avg_size': 0.067, 'start_entry': 44779.3}, {'entry': 42855.4, 'risk': 0.73, 'quantity': 0.004, 'sell_price': 44779.3, 'incurred_sell': 184528.6, 'stop': 42700.1, 'pnl': 107.347, 'fee': 0.069, 'net': 7.997, 'incurred': 283.357, 'stop_percent': 0.004, 'rr': 197, 'avg_entry': 43102.0, 'avg_size': 0.064, 'start_entry': 44779.3}, {'entry': 42876.6, 'risk': 0.73, 'quantity': 0.004, 'sell_price': 44779.3, 'incurred_sell': 183018.8, 'stop': 42700.1, 'pnl': 99.648, 'fee': 0.069, 'net': 7.955, 'incurred': 280.295, 'stop_percent': 0.004, 'rr': 197, 'avg_entry': 43118.5, 'avg_size': 0.06, 'start_entry': 44779.3}, {'entry': 42897.8, 'risk': 0.73, 'quantity': 0.004, 'sell_price': 44779.3, 'incurred_sell': 181508.5, 'stop': 42700.1, 'pnl': 92.042, 'fee': 0.069, 'net': 7.912, 'incurred': 277.232, 'stop_percent': 0.004, 'rr': 197, 'avg_entry': 43135.7, 'avg_size': 0.056, 'start_entry': 44779.3}, {'entry': 42919.0, 'risk': 0.73, 'quantity': 0.004, 'sell_price': 44779.3, 'incurred_sell': 179997.7, 'stop': 42700.1, 'pnl': 84.516, 'fee': 0.069, 'net': 7.87, 'incurred': 274.168, 'stop_percent': 0.005, 'rr': 197, 'avg_entry': 43154.0, 'avg_size': 0.052, 'start_entry': 44779.3}, {'entry': 42938.4, 'risk': 0.73, 'quantity': 0.003, 'sell_price': 44779.3, 'incurred_sell': 178485.9, 'stop': 42700.1, 'pnl': 77.074, 'fee': 0.069, 'net': 7.827, 'incurred': 271.102, 'stop_percent': 0.005, 'rr': 197, 'avg_entry': 43173.6, 'avg_size': 0.048, 'start_entry': 44779.3}, {'entry': 42966.7, 'risk': 1.095, 'quantity': 0.003, 'sell_price': 44779.3, 'incurred_sell': 310992.1, 'stop': 42700.1, 'pnl': 71.55, 'fee': 0.034, 'net': 3.893, 'incurred': 268.036, 'stop_percent': 0.006, 'rr': 197, 'avg_entry': 43189.3, 'avg_size': 0.045, 'start_entry': 44779.3}, {'entry': 42998.5, 'risk': 1.095, 'quantity': 0.003, 'sell_price': 44779.3, 'incurred_sell': 306421.9, 'stop': 42700.1, 'pnl': 66.112, 'fee': 0.034, 'net': 3.861, 'incurred': 263.434, 'stop_percent': 0.007, 'rr': 197, 'avg_entry': 43205.2, 'avg_size': 0.042, 'start_entry': 44779.3}, {'entry': 43030.3, 'risk': 1.095, 'quantity': 0.003, 'sell_price': 44779.3, 'incurred_sell': 301848.7, 'stop': 42700.1, 'pnl': 60.77, 'fee': 0.034, 'net': 3.829, 'incurred': 258.829, 'stop_percent': 0.007, 'rr': 197, 'avg_entry': 43221.1, 'avg_size': 0.039, 'start_entry': 44779.3}, {'entry': 43062.1, 'risk': 1.095, 'quantity': 0.003, 'sell_price': 44779.3, 'incurred_sell': 297273.5, 'stop': 42700.1, 'pnl': 55.523, 'fee': 0.034, 'net': 3.797, 'incurred': 254.222, 'stop_percent': 0.008, 'rr': 197, 'avg_entry': 43237.0, 'avg_size': 0.036, 'start_entry': 44779.3}, {'entry': 43093.9, 'risk': 1.095, 'quantity': 0.003, 'sell_price': 44779.3, 'incurred_sell': 292695.3, 'stop': 42700.1, 'pnl': 50.371, 'fee': 0.034, 'net': 3.765, 'incurred': 249.612, 'stop_percent': 0.009, 'rr': 197, 'avg_entry': 43252.9, 'avg_size': 0.033, 'start_entry': 44779.3}, {'entry': 43125.7, 'risk': 1.095, 'quantity': 0.003, 'sell_price': 44779.3, 'incurred_sell': 288115.1, 'stop': 42700.1, 'pnl': 45.315, 'fee': 0.034, 'net': 3.734, 'incurred': 245.0, 'stop_percent': 0.01, 'rr': 197, 'avg_entry': 43268.8, 'avg_size': 0.03, 'start_entry': 44779.3}, {'entry': 43157.5, 'risk': 1.095, 'quantity': 0.003, 'sell_price': 44779.3, 'incurred_sell': 283531.9, 'stop': 42700.1, 'pnl': 40.354, 'fee': 0.035, 'net': 3.702, 'incurred': 240.385, 'stop_percent': 0.01, 'rr': 197, 'avg_entry': 43284.7, 'avg_size': 0.027, 'start_entry': 44779.3}, {'entry': 43189.3, 'risk': 1.095, 'quantity': 0.003, 'sell_price': 44779.3, 'incurred_sell': 278946.7, 'stop': 42700.1, 'pnl': 35.489, 'fee': 0.035, 'net': 3.67, 'incurred': 235.768, 'stop_percent': 0.011, 'rr': 197, 'avg_entry': 43300.6, 'avg_size': 0.024, 'start_entry': 44779.3}, {'entry': 43221.1, 'risk': 1.095, 'quantity': 0.003, 'sell_price': 44779.3, 'incurred_sell': 274358.5, 'stop': 42700.1, 'pnl': 30.719, 'fee': 0.035, 'net': 3.638, 'incurred': 231.148, 'stop_percent': 0.012, 'rr': 197, 'avg_entry': 43316.5, 'avg_size': 0.021, 'start_entry': 44779.3}, {'entry': 43252.9, 'risk': 1.095, 'quantity': 0.003, 'sell_price': 44779.3, 'incurred_sell': 269767.3, 'stop': 42700.1, 'pnl': 26.044, 'fee': 0.035, 'net': 3.606, 'incurred': 226.525, 'stop_percent': 0.013, 'rr': 197, 'avg_entry': 43332.4, 'avg_size': 0.018, 'start_entry': 44779.3}, {'entry': 43284.7, 'risk': 1.095, 'quantity': 0.003, 'sell_price': 44779.3, 'incurred_sell': 265174.1, 'stop': 42700.1, 'pnl': 21.465, 'fee': 0.035, 'net': 3.575, 'incurred': 221.9, 'stop_percent': 0.013, 'rr': 197, 'avg_entry': 43348.3, 'avg_size': 0.015, 'start_entry': 44779.3}, {'entry': 43316.5, 'risk': 1.095, 'quantity': 0.003, 'sell_price': 44779.3, 'incurred_sell': 260577.9, 'stop': 42700.1, 'pnl': 16.981, 'fee': 0.035, 'net': 3.543, 'incurred': 217.272, 'stop_percent': 0.014, 'rr': 197, 'avg_entry': 43364.2, 'avg_size': 0.012, 'start_entry': 44779.3}, {'entry': 43348.3, 'risk': 1.095, 'quantity': 0.003, 'sell_price': 44779.3, 'incurred_sell': 255979.7, 'stop': 42700.1, 'pnl': 12.593, 'fee': 0.035, 'net': 3.511, 'incurred': 212.642, 'stop_percent': 0.015, 'rr': 197, 'avg_entry': 43380.1, 'avg_size': 0.009, 'start_entry': 44779.3}, {'entry': 43380.1, 'risk': 1.095, 'quantity': 0.003, 'sell_price': 44779.3, 'incurred_sell': 251378.5, 'stop': 42700.1, 'pnl': 8.3, 'fee': 0.035, 'net': 3.479, 'incurred': 208.009, 'stop_percent': 0.015, 'rr': 197, 'avg_entry': 43396.0, 'avg_size': 0.006, 'start_entry': 44779.3}, {'entry': 43411.9, 'risk': 1.095, 'quantity': 0.003, 'sell_price': 44779.3, 'incurred_sell': 246774.3, 'stop': 42700.1, 'pnl': 4.102, 'fee': 0.035, 'net': 3.447, 'incurred': 203.373, 'stop_percent': 0.016, 'rr': 197, 'avg_entry': 43411.9, 'avg_size': 0.003, 'start_entry': 44779.3}]}]\n",
      "processing result for  44345.0\n",
      "All tasks submitted. The program will exit once all callbacks are executed.\n"
     ]
    }
   ],
   "source": [
    "future_instance = exchange.future_instance\n",
    "\n",
    "# future_instance.get_trading_zones('long')\n",
    "# future_instance.config.long_liquidation_price\n",
    "# future_instance.config.as_dict()\n",
    "# zones = future_instance.config.get_trading_zones('short')\n",
    "# zones\n",
    "# stop = future_instance.config.long_liquidation_price\n",
    "# stop \n",
    "# app_config = future_instance.config.app_config\n",
    "# app_config.entry = 44779.3\n",
    "# app_config.stop = stop\n",
    "# # app_config.raw = True\n",
    "# # workers.determine_optimum_reward(app_config)\n",
    "# # future_instance.config.determine_optimum_risk('long',{\n",
    "# #     'entry': 44779.3,\n",
    "# #     'stop': stop\n",
    "# # })\n",
    "# exchange.maximum_sell_size\n",
    "exchange.get_zone_for_position('long')\n",
    "# exchange.get_zone_for_position('long')\n",
    "# exchange.get_next_tradable_zone('long')\n",
    "# exchange.config_params_for_future_trades2('long',True)"
   ]
  },
  {
   "cell_type": "code",
   "execution_count": 7,
   "metadata": {},
   "outputs": [
    {
     "name": "stdout",
     "output_type": "stream",
     "text": [
      "continue processing\n",
      "Processed 2, result: 4\n",
      "Callback: Task completed. Result: 4\n",
      "Processed 4, result: 16\n",
      "Callback: Task completed. Result: 16\n",
      "Processed 1, result: 1\n",
      "Callback: Task completed. Result: 1\n",
      "Processed 3, result: 9\n",
      "Callback: Task completed. Result: 9\n",
      "Processed 5, result: 25\n",
      "Callback: Task completed. Result: 25\n",
      "All tasks submitted. The program will exit once all callbacks are executed.\n"
     ]
    }
   ],
   "source": [
    "import concurrent.futures\n",
    "import time\n",
    "\n",
    "def worker_function(x,timer=1):\n",
    "    # Your worker function logic goes here\n",
    "    result = x * x\n",
    "    time.sleep(timer)\n",
    "    print(f\"Processed {x}, result: {result}\")\n",
    "    return result\n",
    "\n",
    "def callback(future):\n",
    "    try:\n",
    "        result = future.result()\n",
    "        print(f\"Callback: Task completed. Result: {result}\")\n",
    "        # Perform a specific task with the result\n",
    "    except Exception as e:\n",
    "        print(f\"Callback: Task raised an exception: {e}\")\n",
    "\n",
    "def main():\n",
    "    data = [(1,2), (2,1), (3,3), (4,2), (5,3)]\n",
    "\n",
    "    with concurrent.futures.ThreadPoolExecutor() as executor:\n",
    "        futures = [executor.submit(worker_function, *value) for value in data]\n",
    "\n",
    "        # Add a callback function to each future\n",
    "        for future in futures:\n",
    "            future.add_done_callback(callback)\n",
    "        print('continue processing')\n",
    "\n",
    "    print(\"All tasks submitted. The program will exit once all callbacks are executed.\")\n",
    "\n",
    "main()\n"
   ]
  }
 ],
 "metadata": {
  "kernelspec": {
   "display_name": "venv",
   "language": "python",
   "name": "python3"
  },
  "language_info": {
   "codemirror_mode": {
    "name": "ipython",
    "version": 3
   },
   "file_extension": ".py",
   "mimetype": "text/x-python",
   "name": "python",
   "nbconvert_exporter": "python",
   "pygments_lexer": "ipython3",
   "version": "3.10.2"
  }
 },
 "nbformat": 4,
 "nbformat_minor": 2
}
