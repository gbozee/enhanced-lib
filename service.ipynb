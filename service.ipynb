{
 "cells": [
  {
   "cell_type": "code",
   "execution_count": 3,
   "metadata": {},
   "outputs": [
    {
     "name": "stdout",
     "output_type": "stream",
     "text": [
      "minimum 0.0 fee_value 0.02\n"
     ]
    },
    {
     "data": {
      "text/plain": [
       "{'price': 0, 'pnl': 0.0}"
      ]
     },
     "execution_count": 3,
     "metadata": {},
     "output_type": "execute_result"
    }
   ],
   "source": [
    "import cProfile \n",
    "import pstats\n",
    "from enhanced_lib.exchange import ExchangeCache,Database\n",
    "from enhanced_lib.exchange.types import TradeEntry\n",
    "\n",
    "db = Database('http://localhost:8000')\n",
    "\n",
    "# await db.generate_and_save_future_trades('main_account','BTCUSDT','gbozee1_sub_account')\n",
    "# account = 'tomi_account'\n",
    "account = 'main_account'\n",
    "# account = 'gbozee1_sub_account'\n",
    "symbol = 'BTCUSDC'\n",
    "exchange = await db.get_initialized_exchange(account,symbol,account,True)\n",
    "# zones = exchange.future_instance.trade_entries\n",
    "# result = [{'entry':x['entry'],'stop':x['stop']} for x in zones]\n",
    "# # result\n",
    "# config = exchange.future_instance.config\n",
    "# config.strategy = 'quantity'\n",
    "# config.risk_per_trade = 1\n",
    "# config.determine_optimum_risk('short',result[1],max_size=.1,gap=.1,ignore=False)\n",
    "# risk_results = map(lambda x: config.determine_optimum_risk('long',x,max_size=.1,gap=.1),result)\n",
    "# print(list(risk_results))\n",
    "exchange.account.general_config\n",
    "# result = exchange.get_calculations_for_kind(kind='long')\n",
    "# # # result\n",
    "# # await exchange.save_trades(result)\n",
    "trades = await exchange.get_trades()\n",
    "# trades\n",
    "exchange.build_trade_zones(trades,kind='long',fee_percent=.005)\n",
    "# longs[index].avg_entry(41054.12)\n",
    "# exchange.open_orders.get_open_orders('short',True,500)\n",
    "# with cProfile.Profile() as profile:\n",
    "#     db.generate_future_trades(\n",
    "#         exchange,\n",
    "#         kind=None,\n",
    "#         full=True,\n",
    "#         no_of_cpu=1,\n",
    "#         ignore=True,\n",
    "#     )\n",
    "#     # profile.print_stats()\n",
    "# results = pstats.Stats(profile)\n",
    "# results.sort_stats(pstats.SortKey.TIME)\n",
    "# results.print_stats()\n",
    "# results.dump_stats('profile.prof')\n",
    "# exchange.open_orders.get_tp_orders('short',True)"
   ]
  },
  {
   "cell_type": "code",
   "execution_count": 2,
   "metadata": {},
   "outputs": [
    {
     "data": {
      "text/plain": [
       "{'position': {'entry': 51025.517391, 'size': 0.046},\n",
       " 'tp': {'entry': 52859.1, 'size': 0.046},\n",
       " 'pnl': 84.3448,\n",
       " 'remaining_size': 0.0,\n",
       " 'fees': 0.486}"
      ]
     },
     "execution_count": 2,
     "metadata": {},
     "output_type": "execute_result"
    }
   ],
   "source": [
    "import cProfile \n",
    "import pstats\n",
    "from enhanced_lib.exchange import ExchangeCache,Database\n",
    "from enhanced_lib.exchange.types import TradeEntry\n",
    "\n",
    "db = Database('http://localhost:35969')\n",
    "\n",
    "# await db.generate_and_save_future_trades('main_account','BTCUSDT','gbozee1_sub_account')\n",
    "# account = 'main_account'\n",
    "account = 'main_account'\n",
    "symbol = 'BTCUSDT'\n",
    "exchange = await db.get_initialized_exchange(account,symbol,account,True)\n",
    "exchange.open_orders.get_tp_orders('long',True)"
   ]
  },
  {
   "cell_type": "code",
   "execution_count": 2,
   "metadata": {},
   "outputs": [
    {
     "ename": "NameError",
     "evalue": "name 'future_instance' is not defined",
     "output_type": "error",
     "traceback": [
      "\u001b[0;31m---------------------------------------------------------------------------\u001b[0m",
      "\u001b[0;31mNameError\u001b[0m                                 Traceback (most recent call last)",
      "Cell \u001b[0;32mIn[2], line 4\u001b[0m\n\u001b[1;32m      2\u001b[0m \u001b[39mfrom\u001b[39;00m \u001b[39menhanced_lib\u001b[39;00m\u001b[39m.\u001b[39;00m\u001b[39mcalculations\u001b[39;00m\u001b[39m.\u001b[39;00m\u001b[39mworkers\u001b[39;00m\u001b[39m.\u001b[39;00m\u001b[39moptimum_risk_reward\u001b[39;00m \u001b[39mimport\u001b[39;00m eval_func,determine_optimum_reward,run_in_parallel\n\u001b[1;32m      3\u001b[0m \u001b[39mfrom\u001b[39;00m \u001b[39menhanced_lib\u001b[39;00m\u001b[39m.\u001b[39;00m\u001b[39mcalculations\u001b[39;00m\u001b[39m.\u001b[39;00m\u001b[39mworkers\u001b[39;00m\u001b[39m.\u001b[39;00m\u001b[39mutils\u001b[39;00m \u001b[39mimport\u001b[39;00m chunks_in_threads,run_in_threads\n\u001b[0;32m----> 4\u001b[0m app_config \u001b[39m=\u001b[39m future_instance\u001b[39m.\u001b[39mconfig\u001b[39m.\u001b[39mapp_config\n\u001b[1;32m      5\u001b[0m app_config\u001b[39m.\u001b[39mentry \u001b[39m=\u001b[39m \u001b[39m41993.9\u001b[39m\n\u001b[1;32m      6\u001b[0m app_config\u001b[39m.\u001b[39mstop \u001b[39m=\u001b[39m \u001b[39m44779.3\u001b[39m\n",
      "\u001b[0;31mNameError\u001b[0m: name 'future_instance' is not defined"
     ]
    }
   ],
   "source": [
    "from enhanced_lib.calculations.shared import build_config\n",
    "from enhanced_lib.calculations.workers.optimum_risk_reward import eval_func,determine_optimum_reward,run_in_parallel\n",
    "from enhanced_lib.calculations.workers.utils import chunks_in_threads,run_in_threads\n",
    "app_config = future_instance.config.app_config\n",
    "app_config.entry = 41993.9\n",
    "app_config.stop = 44779.3\n",
    "app_config.kind = 'short'\n",
    "app_config.risk_reward = 80\n",
    "# app_config.risk_per_trade = 70\n",
    "print('app_config',app_config)\n",
    "# app_config.support = 41900\n",
    "# app_config.resistance  = 45000\n",
    "# signal = build_config(app_config,{\n",
    "#     # 'raw_instance':True,\n",
    "#     'decimal_places':app_config.decimal_places,\n",
    "#     'increase':True,\n",
    "#     'risk_reward':80,\n",
    "#     'risk_per_trade': 6,\n",
    "#     'entry': 44200,\n",
    "#     'kind': 'long',\n",
    "#     'stop': 42000,\n",
    "#     'currentEntry':44200\n",
    "# })\n",
    "# signal\n",
    "# # signal.get_bulk_trade_zones(44200,kind='long')\n",
    "app_config.strategy = 'entry'\n",
    "# eval_func(80,app_config)\n",
    "# for i in range(30,199,1):\n",
    "#     uu = eval_func(i,app_config)\n",
    "#     # print('uu',len(uu['result']))\n",
    "# func = run_in_parallel(eval_func, [(x,app_config) for x in range(30,199,1)],no_of_cpu=8)\n",
    "# func\n",
    "# bb = chunks_in_threads(eval_func, [(x,app_config) for x in range(30,199,1)],no_of_cpu=4,num_threads=40)\n",
    "# len(bb)\n",
    "# func = run_in_threads(eval_func, [(x,app_config) for x in range(30,199,1)],num_threads=2)\n",
    "# determine_optimum_reward(app_config)\n",
    "# exchange.future_instance.config.long_liquidation_price\n",
    "# exchange.get_next_tradable_zone('long')\n",
    "# exchange.get_next_tradable_zone('short')\n",
    "exchange.config_params_for_future_trades('short',True)"
   ]
  },
  {
   "cell_type": "code",
   "execution_count": 14,
   "metadata": {},
   "outputs": [
    {
     "name": "stdout",
     "output_type": "stream",
     "text": [
      "         43 function calls in 0.000 seconds\n",
      "\n",
      "   Ordered by: standard name\n",
      "\n",
      "   ncalls  tottime  percall  cumtime  percall filename:lineno(function)\n",
      "        1    0.000    0.000    0.000    0.000 cProfile.py:40(print_stats)\n",
      "        1    0.000    0.000    0.000    0.000 cProfile.py:50(create_stats)\n",
      "        1    0.000    0.000    0.000    0.000 pstats.py:107(__init__)\n",
      "        1    0.000    0.000    0.000    0.000 pstats.py:117(init)\n",
      "        1    0.000    0.000    0.000    0.000 pstats.py:136(load_stats)\n",
      "        1    0.000    0.000    0.000    0.000 trade_signal.py:24(_get_zone_nogen)\n",
      "       11    0.000    0.000    0.000    0.000 utils.py:54(to_f)\n",
      "        1    0.000    0.000    0.000    0.000 {built-in method builtins.hasattr}\n",
      "       12    0.000    0.000    0.000    0.000 {built-in method builtins.isinstance}\n",
      "        1    0.000    0.000    0.000    0.000 {built-in method builtins.len}\n",
      "       11    0.000    0.000    0.000    0.000 {method 'append' of 'list' objects}\n",
      "        1    0.000    0.000    0.000    0.000 {method 'disable' of '_lsprof.Profiler' objects}\n",
      "\n",
      "\n"
     ]
    }
   ],
   "source": [
    "from enhanced_lib.calculations.trade_signal import Signal,_get_zones,_get_zone_nogen\n",
    "import cProfile\n",
    "\n",
    "\n",
    "\n",
    "# [x for x in _get_zones(43500,18000,0.04,places='%.1f')]\n",
    "with cProfile.Profile() as profile:\n",
    "    _get_zone_nogen(43500,18000,0.04,places='%.1f')\n",
    "    # [x for x in _get_zone_nogen(43500,18000,0.04,places='%.1f')]\n",
    "    profile.print_stats()"
   ]
  },
  {
   "cell_type": "code",
   "execution_count": 6,
   "metadata": {},
   "outputs": [],
   "source": [
    "from enhanced_lib.exchange import Database\n",
    "\n",
    "db = Database(\"http://localhost:8000\")\n",
    "exchange = await db.get_initialized_exchange(\n",
    "    \"main_account\", \"BTCUSDT\", \"main_account\"\n",
    ")\n",
    "\n"
   ]
  },
  {
   "cell_type": "code",
   "execution_count": 9,
   "metadata": {},
   "outputs": [
    {
     "data": {
      "text/plain": [
       "177"
      ]
     },
     "execution_count": 9,
     "metadata": {},
     "output_type": "execute_result"
    }
   ],
   "source": [
    "\n",
    "from enhanced_lib.calculations import workers\n",
    "\n",
    "future_instance = exchange.future_instance\n",
    "\n",
    "# exchange.open_orders.get_sl_orders(\"short\", True)\n",
    "\n",
    "# future_instance.get_trading_zones('long')\n",
    "# future_instance.config.long_liquidation_price\n",
    "# future_instance.config.as_dict()\n",
    "zones = future_instance.config.get_trading_zones('short')\n",
    "# zones\n",
    "stop = future_instance.config.long_liquidation_price\n",
    "stop\n",
    "app_config = future_instance.config.app_config\n",
    "app_config.entry = 44779.3\n",
    "app_config.stop = 43000\n",
    "# app_config.raw = True\n",
    "workers.determine_optimum_reward(app_config,ignore=True)\n",
    "# # future_instance.config.determine_optimum_risk('long',{\n",
    "# #     'entry': 44779.3,\n",
    "# #     'stop': stop\n",
    "# # })\n",
    "# exchange.maximum_sell_size\n",
    "# exchange.get_zone_for_position('long')\n",
    "# exchange.get_zone_for_position('long')\n",
    "# exchange.get_next_tradable_zone('long')\n",
    "# exchange.config_params_for_future_trades2(\"long\", True)"
   ]
  },
  {
   "cell_type": "code",
   "execution_count": 2,
   "metadata": {},
   "outputs": [
    {
     "data": {
      "text/plain": [
       "{'result': [{'entry': 323.5,\n",
       "   'risk': 6.0,\n",
       "   'quantity': 0.72,\n",
       "   'sell_price': 335.20684,\n",
       "   'incurred_sell': 337.3,\n",
       "   'stop': 315.22,\n",
       "   'pnl': 8.43,\n",
       "   'fee': 0.074,\n",
       "   'net': 10.642,\n",
       "   'incurred': 5.394,\n",
       "   'stop_percent': 0.011,\n",
       "   'rr': 6,\n",
       "   'avg_entry': 323.5,\n",
       "   'avg_size': 0.72,\n",
       "   'start_entry': 335.20684}],\n",
       " 'value': 6,\n",
       " 'total': 0.72,\n",
       " 'max': 0.72,\n",
       " 'min': 0.72,\n",
       " 'entry': 323.5,\n",
       " 'max_index': 0}"
      ]
     },
     "execution_count": 2,
     "metadata": {},
     "output_type": "execute_result"
    }
   ],
   "source": [
    "from enhanced_lib.calculations.workers.optimum_risk_reward import (\n",
    "    size_resolver,\n",
    "    AppConfig,\n",
    "    determine_optimum_reward,\n",
    "    determine_optimum_risk,\n",
    "    eval_func,\n",
    ")\n",
    "\n",
    "# unique[39983.3, 40624.4412, 41021.0794, 41341.65, 41662.2206, 42126.7763, 42700.0]\n",
    "payload = {\n",
    "    \"current_risk\": 30,\n",
    "    \"app_config\": AppConfig(\n",
    "        fee=0.06,\n",
    "        risk_per_trade=6,\n",
    "        risk_reward=1,\n",
    "        focus=303.4,\n",
    "        budget=500,\n",
    "        support=315.22,\n",
    "        resistance=399.91,\n",
    "        percent_change=0.08,\n",
    "        tradeSplit=5,\n",
    "        take_profit=None,\n",
    "        kind=\"long\",\n",
    "        entry=335.20684,\n",
    "        stop=315.22,\n",
    "        min_size=0.7,\n",
    "        minimum_size=0.7,\n",
    "        price_places=\"%.2f\",\n",
    "        decimal_places=\"%.2f\",\n",
    "        strategy=\"quantity\",\n",
    "        as_array=None,\n",
    "        raw=None,\n",
    "    ),\n",
    "    \"no_of_cpu\": 4,\n",
    "    \"with_trades\": False,\n",
    "    \"ignore\": False,\n",
    "}\n",
    "# determine_optimum_risk(payload[\"app_config\"], 0.1, 0.1, 10)\n",
    "# size_resolver(9, payload[\"app_config\"])\n",
    "determine_optimum_reward(payload[\"app_config\"], ignore=True)\n",
    "# determine_optimum_reward(payload[\"app_config\"], 0.1, 0.1, ignore=False)\n",
    "# for i in range(30, 199, 1):\n",
    "#     print(\"i \", i)\n",
    "#     print(eval_func(i, payload[\"app_config\"]))\n",
    "eval_func(6, payload[\"app_config\"])"
   ]
  },
  {
   "cell_type": "code",
   "execution_count": 16,
   "metadata": {},
   "outputs": [
    {
     "name": "stdout",
     "output_type": "stream",
     "text": [
      "direction 1 [41600.] [38461.53846154] 68000\n",
      "condition [False]\n"
     ]
    },
    {
     "ename": "UnboundLocalError",
     "evalue": "local variable 'result' referenced before assignment",
     "output_type": "error",
     "traceback": [
      "\u001b[0;31m---------------------------------------------------------------------------\u001b[0m",
      "\u001b[0;31mUnboundLocalError\u001b[0m                         Traceback (most recent call last)",
      "Cell \u001b[0;32mIn[16], line 50\u001b[0m\n\u001b[1;32m     46\u001b[0m     \u001b[38;5;28;01mreturn\u001b[39;00m result\u001b[38;5;241m.\u001b[39mtolist()\n\u001b[1;32m     49\u001b[0m \u001b[38;5;66;03m# _get_zone_nogen(68000, 40000, 0.04, places=\"%.1f\")\u001b[39;00m\n\u001b[0;32m---> 50\u001b[0m \u001b[43mcalculate_sequence_numpy\u001b[49m\u001b[43m(\u001b[49m\u001b[38;5;241;43m68000\u001b[39;49m\u001b[43m,\u001b[49m\u001b[43m \u001b[49m\u001b[38;5;241;43m40000\u001b[39;49m\u001b[43m,\u001b[49m\u001b[43m \u001b[49m\u001b[38;5;241;43m0.04\u001b[39;49m\u001b[43m,\u001b[49m\u001b[43m \u001b[49m\u001b[43mplaces\u001b[49m\u001b[38;5;241;43m=\u001b[39;49m\u001b[38;5;124;43m\"\u001b[39;49m\u001b[38;5;132;43;01m%.1f\u001b[39;49;00m\u001b[38;5;124;43m\"\u001b[39;49m\u001b[43m)\u001b[49m\n",
      "Cell \u001b[0;32mIn[16], line 46\u001b[0m, in \u001b[0;36mcalculate_sequence_numpy\u001b[0;34m(current_price, focus, percent_change, places)\u001b[0m\n\u001b[1;32m     42\u001b[0m     focus_low \u001b[38;5;241m=\u001b[39m last \u001b[38;5;241m*\u001b[39m (\u001b[38;5;241m1\u001b[39m \u001b[38;5;241m+\u001b[39m percent_change) \u001b[38;5;241m*\u001b[39m\u001b[38;5;241m*\u001b[39m \u001b[38;5;241m-\u001b[39m\u001b[38;5;241m1\u001b[39m\n\u001b[1;32m     43\u001b[0m     condition \u001b[38;5;241m=\u001b[39m (direction \u001b[38;5;241m>\u001b[39m \u001b[38;5;241m0\u001b[39m) \u001b[38;5;241m&\u001b[39m (focus_high \u001b[38;5;241m>\u001b[39m current_price) \u001b[38;5;241m|\u001b[39m \\\n\u001b[1;32m     44\u001b[0m                 (direction \u001b[38;5;241m<\u001b[39m \u001b[38;5;241m0\u001b[39m) \u001b[38;5;241m&\u001b[39m (focus_low \u001b[38;5;241m<\u001b[39m\u001b[38;5;241m=\u001b[39m current_price)\n\u001b[0;32m---> 46\u001b[0m \u001b[38;5;28;01mreturn\u001b[39;00m \u001b[43mresult\u001b[49m\u001b[38;5;241m.\u001b[39mtolist()\n",
      "\u001b[0;31mUnboundLocalError\u001b[0m: local variable 'result' referenced before assignment"
     ]
    }
   ],
   "source": [
    "from enhanced_lib.calculations.trade_signal import _get_zone_nogen, to_f\n",
    "import numpy as np\n",
    "\n",
    "\n",
    "def calculate_sequence_numpy(current_price, focus, percent_change, places=\"%.5f\"):\n",
    "    \"\"\"\n",
    "    Calculates a sequence of numbers using NumPy vectorized operations.\n",
    "\n",
    "    Args:\n",
    "        current_price: The current price (float).\n",
    "        focus: The starting focus (float).\n",
    "        percent_change: The percentage change (float).\n",
    "        places: The formatting string for the output (str, default=\"%.5f\").\n",
    "\n",
    "    Returns:\n",
    "        A list of formatted numbers (list[str]).\n",
    "    \"\"\"\n",
    "\n",
    "    # Create a NumPy array with initial values\n",
    "    # Check direction (+1, 0, or -1)\n",
    "    direction = np.sign(current_price - focus)\n",
    "    last = np.array([focus])\n",
    "    focus_high = last * (1 + percent_change)\n",
    "    focus_low = last * (1 + percent_change) ** -1\n",
    "\n",
    "    # Use a condition to determine the iteration direction\n",
    "    condition = (direction > 0) & (focus_high > current_price) | \\\n",
    "                (direction < 0) & (focus_low <= current_price)\n",
    "                \n",
    "    #  # Revised condition\n",
    "    # condition = (direction > 0) & (focus_high > current_price) | \\\n",
    "    #             (direction < 0) & (focus_low <= current_price)\n",
    "                \n",
    "    print('direction',direction, focus_high,focus_low,current_price)\n",
    "    print('condition',condition)\n",
    "\n",
    "    # Use NumPy's `while` equivalent (logical indexing)\n",
    "    while np.any(condition):\n",
    "        result = np.append(result, to_f(last[condition], places))\n",
    "        last = focus_low[condition]\n",
    "        focus_high = last * (1 + percent_change)\n",
    "        focus_low = last * (1 + percent_change) ** -1\n",
    "        condition = (direction > 0) & (focus_high > current_price) | \\\n",
    "                    (direction < 0) & (focus_low <= current_price)\n",
    "\n",
    "    return result.tolist()\n",
    "\n",
    "\n",
    "# _get_zone_nogen(68000, 40000, 0.04, places=\"%.1f\")\n",
    "calculate_sequence_numpy(68000, 40000, 0.04, places=\"%.1f\")"
   ]
  }
 ],
 "metadata": {
  "kernelspec": {
   "display_name": "venv",
   "language": "python",
   "name": "python3"
  },
  "language_info": {
   "codemirror_mode": {
    "name": "ipython",
    "version": 3
   },
   "file_extension": ".py",
   "mimetype": "text/x-python",
   "name": "python",
   "nbconvert_exporter": "python",
   "pygments_lexer": "ipython3",
   "version": "3.10.2"
  }
 },
 "nbformat": 4,
 "nbformat_minor": 2
}
