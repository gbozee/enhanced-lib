{
 "cells": [
  {
   "cell_type": "code",
   "execution_count": 2,
   "metadata": {},
   "outputs": [
    {
     "ename": "TypeError",
     "evalue": "Config.determine_optimum_risk() got an unexpected keyword argument 'ignore'",
     "output_type": "error",
     "traceback": [
      "\u001b[0;31m---------------------------------------------------------------------------\u001b[0m",
      "\u001b[0;31mTypeError\u001b[0m                                 Traceback (most recent call last)",
      "Cell \u001b[0;32mIn[2], line 5\u001b[0m\n\u001b[1;32m      1\u001b[0m \u001b[39mfrom\u001b[39;00m \u001b[39menhanced_lib\u001b[39;00m\u001b[39m.\u001b[39;00m\u001b[39mexchange\u001b[39;00m \u001b[39mimport\u001b[39;00m ExchangeCache,Database\n\u001b[1;32m      3\u001b[0m db \u001b[39m=\u001b[39m Database(\u001b[39m'\u001b[39m\u001b[39mhttp://localhost:8000\u001b[39m\u001b[39m'\u001b[39m)\n\u001b[0;32m----> 5\u001b[0m \u001b[39mawait\u001b[39;00m db\u001b[39m.\u001b[39mgenerate_and_save_future_trades(\u001b[39m'\u001b[39m\u001b[39mmain_account\u001b[39m\u001b[39m'\u001b[39m,\u001b[39m'\u001b[39m\u001b[39mBTCUSDT\u001b[39m\u001b[39m'\u001b[39m,\u001b[39m'\u001b[39m\u001b[39mgbozee1_sub_account\u001b[39m\u001b[39m'\u001b[39m)\n\u001b[1;32m      6\u001b[0m \u001b[39m# exchange = await db.get_initialized_exchange('main_account','BTCUSDT','gbozee1_sub_account')\u001b[39;00m\n\u001b[1;32m      7\u001b[0m \n\u001b[1;32m      8\u001b[0m \u001b[39m# config = exchange.config \u001b[39;00m\n\u001b[0;32m   (...)\u001b[0m\n\u001b[1;32m     29\u001b[0m \u001b[39m# exchange.get_next_tradable_zone('long')\u001b[39;00m\n\u001b[1;32m     30\u001b[0m \u001b[39m# exchange.config_params_for_future_trades2('long',True)\u001b[39;00m\n",
      "File \u001b[0;32m~/projects/bot-trader/enhanced-lib/python/enhanced_lib/exchange/database.py:183\u001b[0m, in \u001b[0;36mDatabase.generate_and_save_future_trades\u001b[0;34m(self, owner, symbol, config_owner, no_of_cpu, ignore)\u001b[0m\n\u001b[1;32m    176\u001b[0m exchange: ExchangeCache \u001b[39m=\u001b[39m \u001b[39mawait\u001b[39;00m \u001b[39mself\u001b[39m\u001b[39m.\u001b[39mget_initialized_exchange(\n\u001b[1;32m    177\u001b[0m     owner,\n\u001b[1;32m    178\u001b[0m     symbol,\n\u001b[1;32m    179\u001b[0m     owner_config\u001b[39m=\u001b[39mconfig_owner,\n\u001b[1;32m    180\u001b[0m )\n\u001b[1;32m    181\u001b[0m \u001b[39m# with concurrent.futures.ThreadPoolExecutor() as executor:\u001b[39;00m\n\u001b[1;32m    182\u001b[0m \u001b[39m#     loop.run_in_executor(executor,self.generate_future_trades,,\u001b[39;00m\n\u001b[0;32m--> 183\u001b[0m \u001b[39mself\u001b[39;49m\u001b[39m.\u001b[39;49mgenerate_future_trades(\n\u001b[1;32m    184\u001b[0m     exchange,\n\u001b[1;32m    185\u001b[0m     kind\u001b[39m=\u001b[39;49m\u001b[39mNone\u001b[39;49;00m,\n\u001b[1;32m    186\u001b[0m     full\u001b[39m=\u001b[39;49m\u001b[39mTrue\u001b[39;49;00m,\n\u001b[1;32m    187\u001b[0m     no_of_cpu\u001b[39m=\u001b[39;49mno_of_cpu,\n\u001b[1;32m    188\u001b[0m     ignore\u001b[39m=\u001b[39;49mignore,\n\u001b[1;32m    189\u001b[0m )\n\u001b[1;32m    190\u001b[0m \u001b[39mprint\u001b[39m(\u001b[39m\"\u001b[39m\u001b[39mGenerated trades\u001b[39m\u001b[39m\"\u001b[39m)\n\u001b[1;32m    191\u001b[0m \u001b[39mprint\u001b[39m(\u001b[39m\"\u001b[39m\u001b[39mresult\u001b[39m\u001b[39m\"\u001b[39m, \u001b[39mself\u001b[39m\u001b[39m.\u001b[39mget_trade_zones(owner, symbol))\n",
      "File \u001b[0;32m~/projects/bot-trader/enhanced-lib/python/enhanced_lib/exchange/database.py:73\u001b[0m, in \u001b[0;36mDatabase.generate_future_trades\u001b[0;34m(self, exchange, kind, full, no_of_cpu, ignore)\u001b[0m\n\u001b[1;32m     71\u001b[0m gap \u001b[39m=\u001b[39m exchange\u001b[39m.\u001b[39mconfig\u001b[39m.\u001b[39mgap \u001b[39mor\u001b[39;00m \u001b[39m1\u001b[39m\n\u001b[1;32m     72\u001b[0m \u001b[39mif\u001b[39;00m kind \u001b[39m==\u001b[39m \u001b[39m\"\u001b[39m\u001b[39mlong\u001b[39m\u001b[39m\"\u001b[39m \u001b[39mor\u001b[39;00m \u001b[39mnot\u001b[39;00m kind:\n\u001b[0;32m---> 73\u001b[0m     long_trades \u001b[39m=\u001b[39m exchange\u001b[39m.\u001b[39;49mconfig_params_for_future_trades(\n\u001b[1;32m     74\u001b[0m         \u001b[39m\"\u001b[39;49m\u001b[39mlong\u001b[39;49m\u001b[39m\"\u001b[39;49m, \u001b[39mTrue\u001b[39;49;00m, gap\u001b[39m=\u001b[39;49mgap, full\u001b[39m=\u001b[39;49mfull, no_of_cpu\u001b[39m=\u001b[39;49mno_of_cpu, ignore\u001b[39m=\u001b[39;49mignore\n\u001b[1;32m     75\u001b[0m     )\n\u001b[1;32m     76\u001b[0m \u001b[39mif\u001b[39;00m kind \u001b[39m==\u001b[39m \u001b[39m\"\u001b[39m\u001b[39mshort\u001b[39m\u001b[39m\"\u001b[39m \u001b[39mor\u001b[39;00m \u001b[39mnot\u001b[39;00m kind:\n\u001b[1;32m     77\u001b[0m     short_trades \u001b[39m=\u001b[39m exchange\u001b[39m.\u001b[39mconfig_params_for_future_trades(\n\u001b[1;32m     78\u001b[0m         \u001b[39m\"\u001b[39m\u001b[39mshort\u001b[39m\u001b[39m\"\u001b[39m, \u001b[39mTrue\u001b[39;00m, gap\u001b[39m=\u001b[39mgap, full\u001b[39m=\u001b[39mfull, no_of_cpu\u001b[39m=\u001b[39mno_of_cpu, ignore\u001b[39m=\u001b[39mignore\n\u001b[1;32m     79\u001b[0m     )\n",
      "File \u001b[0;32m~/projects/bot-trader/enhanced-lib/python/enhanced_lib/exchange/cache.py:207\u001b[0m, in \u001b[0;36mExchangeCache.config_params_for_future_trades\u001b[0;34m(self, kind, with_trades, no_of_cpu, gap, full, ignore)\u001b[0m\n\u001b[1;32m    191\u001b[0m     y \u001b[39m=\u001b[39m config\u001b[39m.\u001b[39mdetermine_optimum_risk(\n\u001b[1;32m    192\u001b[0m         kind,\n\u001b[1;32m    193\u001b[0m         o,\n\u001b[0;32m   (...)\u001b[0m\n\u001b[1;32m    198\u001b[0m         ignore\u001b[39m=\u001b[39mignore,\n\u001b[1;32m    199\u001b[0m     )\n\u001b[1;32m    200\u001b[0m     \u001b[39mreturn\u001b[39;00m {\n\u001b[1;32m    201\u001b[0m         \u001b[39m*\u001b[39m\u001b[39m*\u001b[39mo,\n\u001b[1;32m    202\u001b[0m         \u001b[39m\"\u001b[39m\u001b[39mrisk_reward\u001b[39m\u001b[39m\"\u001b[39m: y[\u001b[39m\"\u001b[39m\u001b[39mrisk_reward\u001b[39m\u001b[39m\"\u001b[39m],\n\u001b[1;32m    203\u001b[0m         \u001b[39m\"\u001b[39m\u001b[39mrisk_per_trade\u001b[39m\u001b[39m\"\u001b[39m: y[\u001b[39m\"\u001b[39m\u001b[39mvalue\u001b[39m\u001b[39m\"\u001b[39m],\n\u001b[1;32m    204\u001b[0m         \u001b[39m\"\u001b[39m\u001b[39mtrades\u001b[39m\u001b[39m\"\u001b[39m: y\u001b[39m.\u001b[39mget(\u001b[39m\"\u001b[39m\u001b[39mtrades\u001b[39m\u001b[39m\"\u001b[39m, []),\n\u001b[1;32m    205\u001b[0m     }\n\u001b[0;32m--> 207\u001b[0m result \u001b[39m=\u001b[39m run_in_threads(\n\u001b[1;32m    208\u001b[0m     func, [(x,) \u001b[39mfor\u001b[39;49;00m x \u001b[39min\u001b[39;49;00m zones], num_threads\u001b[39m=\u001b[39;49mno_of_cpu, ignore\u001b[39m=\u001b[39;49mignore\n\u001b[1;32m    209\u001b[0m )\n\u001b[1;32m    211\u001b[0m \u001b[39mreturn\u001b[39;00m result\n",
      "File \u001b[0;32m~/projects/bot-trader/enhanced-lib/python/enhanced_lib/calculations/workers/utils.py:16\u001b[0m, in \u001b[0;36mrun_in_threads\u001b[0;34m(func, args, num_threads, ignore)\u001b[0m\n\u001b[1;32m      9\u001b[0m \u001b[39mdef\u001b[39;00m \u001b[39mrun_in_threads\u001b[39m(\n\u001b[1;32m     10\u001b[0m     func: typing\u001b[39m.\u001b[39mCallable[[\u001b[39mint\u001b[39m, typing\u001b[39m.\u001b[39mAny], typing\u001b[39m.\u001b[39mAny],\n\u001b[1;32m     11\u001b[0m     args: typing\u001b[39m.\u001b[39mList[typing\u001b[39m.\u001b[39mTuple[\u001b[39mint\u001b[39m, typing\u001b[39m.\u001b[39mAny]],\n\u001b[1;32m     12\u001b[0m     num_threads\u001b[39m=\u001b[39m\u001b[39m2\u001b[39m,\n\u001b[1;32m     13\u001b[0m     ignore\u001b[39m=\u001b[39m\u001b[39mFalse\u001b[39;00m,\n\u001b[1;32m     14\u001b[0m ):\n\u001b[1;32m     15\u001b[0m     \u001b[39mif\u001b[39;00m ignore:\n\u001b[0;32m---> 16\u001b[0m         \u001b[39mreturn\u001b[39;00m [func(\u001b[39m*\u001b[39mx) \u001b[39mfor\u001b[39;00m x \u001b[39min\u001b[39;00m args]\n\u001b[1;32m     17\u001b[0m     \u001b[39mwith\u001b[39;00m concurrent\u001b[39m.\u001b[39mfutures\u001b[39m.\u001b[39mThreadPoolExecutor(\n\u001b[1;32m     18\u001b[0m         max_workers\u001b[39m=\u001b[39mnum_threads\n\u001b[1;32m     19\u001b[0m     ) \u001b[39mas\u001b[39;00m thread_executor:\n\u001b[1;32m     20\u001b[0m         futures \u001b[39m=\u001b[39m []\n",
      "File \u001b[0;32m~/projects/bot-trader/enhanced-lib/python/enhanced_lib/calculations/workers/utils.py:16\u001b[0m, in \u001b[0;36m<listcomp>\u001b[0;34m(.0)\u001b[0m\n\u001b[1;32m      9\u001b[0m \u001b[39mdef\u001b[39;00m \u001b[39mrun_in_threads\u001b[39m(\n\u001b[1;32m     10\u001b[0m     func: typing\u001b[39m.\u001b[39mCallable[[\u001b[39mint\u001b[39m, typing\u001b[39m.\u001b[39mAny], typing\u001b[39m.\u001b[39mAny],\n\u001b[1;32m     11\u001b[0m     args: typing\u001b[39m.\u001b[39mList[typing\u001b[39m.\u001b[39mTuple[\u001b[39mint\u001b[39m, typing\u001b[39m.\u001b[39mAny]],\n\u001b[1;32m     12\u001b[0m     num_threads\u001b[39m=\u001b[39m\u001b[39m2\u001b[39m,\n\u001b[1;32m     13\u001b[0m     ignore\u001b[39m=\u001b[39m\u001b[39mFalse\u001b[39;00m,\n\u001b[1;32m     14\u001b[0m ):\n\u001b[1;32m     15\u001b[0m     \u001b[39mif\u001b[39;00m ignore:\n\u001b[0;32m---> 16\u001b[0m         \u001b[39mreturn\u001b[39;00m [func(\u001b[39m*\u001b[39;49mx) \u001b[39mfor\u001b[39;00m x \u001b[39min\u001b[39;00m args]\n\u001b[1;32m     17\u001b[0m     \u001b[39mwith\u001b[39;00m concurrent\u001b[39m.\u001b[39mfutures\u001b[39m.\u001b[39mThreadPoolExecutor(\n\u001b[1;32m     18\u001b[0m         max_workers\u001b[39m=\u001b[39mnum_threads\n\u001b[1;32m     19\u001b[0m     ) \u001b[39mas\u001b[39;00m thread_executor:\n\u001b[1;32m     20\u001b[0m         futures \u001b[39m=\u001b[39m []\n",
      "File \u001b[0;32m~/projects/bot-trader/enhanced-lib/python/enhanced_lib/exchange/cache.py:191\u001b[0m, in \u001b[0;36mExchangeCache.config_params_for_future_trades.<locals>.func\u001b[0;34m(o)\u001b[0m\n\u001b[1;32m    190\u001b[0m \u001b[39mdef\u001b[39;00m \u001b[39mfunc\u001b[39m(o):\n\u001b[0;32m--> 191\u001b[0m     y \u001b[39m=\u001b[39m config\u001b[39m.\u001b[39;49mdetermine_optimum_risk(\n\u001b[1;32m    192\u001b[0m         kind,\n\u001b[1;32m    193\u001b[0m         o,\n\u001b[1;32m    194\u001b[0m         max_size\u001b[39m=\u001b[39;49mo[\u001b[39m\"\u001b[39;49m\u001b[39msize\u001b[39;49m\u001b[39m\"\u001b[39;49m],\n\u001b[1;32m    195\u001b[0m         gap\u001b[39m=\u001b[39;49mget_gap(o),\n\u001b[1;32m    196\u001b[0m         with_trades\u001b[39m=\u001b[39;49mwith_trades,\n\u001b[1;32m    197\u001b[0m         no_of_cpu\u001b[39m=\u001b[39;49mno_of_cpu,\n\u001b[1;32m    198\u001b[0m         ignore\u001b[39m=\u001b[39;49mignore,\n\u001b[1;32m    199\u001b[0m     )\n\u001b[1;32m    200\u001b[0m     \u001b[39mreturn\u001b[39;00m {\n\u001b[1;32m    201\u001b[0m         \u001b[39m*\u001b[39m\u001b[39m*\u001b[39mo,\n\u001b[1;32m    202\u001b[0m         \u001b[39m\"\u001b[39m\u001b[39mrisk_reward\u001b[39m\u001b[39m\"\u001b[39m: y[\u001b[39m\"\u001b[39m\u001b[39mrisk_reward\u001b[39m\u001b[39m\"\u001b[39m],\n\u001b[1;32m    203\u001b[0m         \u001b[39m\"\u001b[39m\u001b[39mrisk_per_trade\u001b[39m\u001b[39m\"\u001b[39m: y[\u001b[39m\"\u001b[39m\u001b[39mvalue\u001b[39m\u001b[39m\"\u001b[39m],\n\u001b[1;32m    204\u001b[0m         \u001b[39m\"\u001b[39m\u001b[39mtrades\u001b[39m\u001b[39m\"\u001b[39m: y\u001b[39m.\u001b[39mget(\u001b[39m\"\u001b[39m\u001b[39mtrades\u001b[39m\u001b[39m\"\u001b[39m, []),\n\u001b[1;32m    205\u001b[0m     }\n",
      "\u001b[0;31mTypeError\u001b[0m: Config.determine_optimum_risk() got an unexpected keyword argument 'ignore'"
     ]
    }
   ],
   "source": [
    "from enhanced_lib.exchange import ExchangeCache,Database\n",
    "\n",
    "db = Database('http://localhost:8000')\n",
    "\n",
    "await db.generate_and_save_future_trades('main_account','BTCUSDT','gbozee1_sub_account')\n",
    "# exchange = await db.get_initialized_exchange('main_account','BTCUSDT','gbozee1_sub_account')\n",
    "\n",
    "# config = exchange.config \n",
    "\n",
    "# exchange.get_next_tradable_zone('long',True)\n",
    "# config.determine_optimum_risk('long',{'stop': 36909.8, 'entry': 40762.1792, 'size': 0.1}\n",
    "#                               ,max_size=.1,gap=.1,with_trades=True,no_of_cpu=1)\n",
    "\n",
    "# future_instance.get_trading_zones('long')\n",
    "# future_instance.config.long_liquidation_price\n",
    "# future_instance.config.as_dict()\n",
    "# zones = future_instance.config.get_trading_zones('short')\n",
    "# zones\n",
    "# stop = future_instance.config.long_liquidation_price\n",
    "# stop\n",
    "# app_config = future_instance.config.app_config\n",
    "# app_config.entry = 44779.3\n",
    "# app_config.stop = stop\n",
    "# # app_config.raw = True\n",
    "# # workers.determine_optimum_reward(app_config)\n",
    "# exchange.maximum_sell_size\n",
    "# exchange.get_zone_for_position('long')\n",
    "# exchange.get_zone_for_position('long')\n",
    "# exchange.get_next_tradable_zone('long')\n",
    "# exchange.config_params_for_future_trades2('long',True)"
   ]
  },
  {
   "cell_type": "code",
   "execution_count": 1,
   "metadata": {},
   "outputs": [
    {
     "ename": "NameError",
     "evalue": "name 'future_instance' is not defined",
     "output_type": "error",
     "traceback": [
      "\u001b[0;31m---------------------------------------------------------------------------\u001b[0m",
      "\u001b[0;31mNameError\u001b[0m                                 Traceback (most recent call last)",
      "Cell \u001b[0;32mIn[1], line 4\u001b[0m\n\u001b[1;32m      2\u001b[0m \u001b[39mfrom\u001b[39;00m \u001b[39menhanced_lib\u001b[39;00m\u001b[39m.\u001b[39;00m\u001b[39mcalculations\u001b[39;00m\u001b[39m.\u001b[39;00m\u001b[39mworkers\u001b[39;00m\u001b[39m.\u001b[39;00m\u001b[39moptimum_risk_reward\u001b[39;00m \u001b[39mimport\u001b[39;00m eval_func,determine_optimum_reward,run_in_parallel\n\u001b[1;32m      3\u001b[0m \u001b[39mfrom\u001b[39;00m \u001b[39menhanced_lib\u001b[39;00m\u001b[39m.\u001b[39;00m\u001b[39mcalculations\u001b[39;00m\u001b[39m.\u001b[39;00m\u001b[39mworkers\u001b[39;00m\u001b[39m.\u001b[39;00m\u001b[39mutils\u001b[39;00m \u001b[39mimport\u001b[39;00m chunks_in_threads,run_in_threads\n\u001b[0;32m----> 4\u001b[0m app_config \u001b[39m=\u001b[39m future_instance\u001b[39m.\u001b[39mconfig\u001b[39m.\u001b[39mapp_config\n\u001b[1;32m      5\u001b[0m app_config\u001b[39m.\u001b[39mentry \u001b[39m=\u001b[39m \u001b[39m41993.9\u001b[39m\n\u001b[1;32m      6\u001b[0m app_config\u001b[39m.\u001b[39mstop \u001b[39m=\u001b[39m \u001b[39m44779.3\u001b[39m\n",
      "\u001b[0;31mNameError\u001b[0m: name 'future_instance' is not defined"
     ]
    }
   ],
   "source": [
    "from enhanced_lib.calculations.shared import build_config\n",
    "from enhanced_lib.calculations.workers.optimum_risk_reward import eval_func,determine_optimum_reward,run_in_parallel\n",
    "from enhanced_lib.calculations.workers.utils import chunks_in_threads,run_in_threads\n",
    "app_config = future_instance.config.app_config\n",
    "app_config.entry = 41993.9\n",
    "app_config.stop = 44779.3\n",
    "app_config.kind = 'short'\n",
    "app_config.risk_reward = 80\n",
    "# app_config.risk_per_trade = 70\n",
    "print('app_config',app_config)\n",
    "# app_config.support = 41900\n",
    "# app_config.resistance  = 45000\n",
    "# signal = build_config(app_config,{\n",
    "#     # 'raw_instance':True,\n",
    "#     'decimal_places':app_config.decimal_places,\n",
    "#     'increase':True,\n",
    "#     'risk_reward':80,\n",
    "#     'risk_per_trade': 6,\n",
    "#     'entry': 44200,\n",
    "#     'kind': 'long',\n",
    "#     'stop': 42000,\n",
    "#     'currentEntry':44200\n",
    "# })\n",
    "# signal\n",
    "# # signal.get_bulk_trade_zones(44200,kind='long')\n",
    "app_config.strategy = 'entry'\n",
    "# eval_func(80,app_config)\n",
    "# for i in range(30,199,1):\n",
    "#     uu = eval_func(i,app_config)\n",
    "#     # print('uu',len(uu['result']))\n",
    "# func = run_in_parallel(eval_func, [(x,app_config) for x in range(30,199,1)],no_of_cpu=8)\n",
    "# func\n",
    "# bb = chunks_in_threads(eval_func, [(x,app_config) for x in range(30,199,1)],no_of_cpu=4,num_threads=40)\n",
    "# len(bb)\n",
    "# func = run_in_threads(eval_func, [(x,app_config) for x in range(30,199,1)],num_threads=2)\n",
    "# determine_optimum_reward(app_config)\n",
    "# exchange.future_instance.config.long_liquidation_price\n",
    "# exchange.get_next_tradable_zone('long')\n",
    "# exchange.get_next_tradable_zone('short')\n",
    "exchange.config_params_for_future_trades('short',True)"
   ]
  }
 ],
 "metadata": {
  "kernelspec": {
   "display_name": "venv",
   "language": "python",
   "name": "python3"
  },
  "language_info": {
   "codemirror_mode": {
    "name": "ipython",
    "version": 3
   },
   "file_extension": ".py",
   "mimetype": "text/x-python",
   "name": "python",
   "nbconvert_exporter": "python",
   "pygments_lexer": "ipython3",
   "version": "3.10.2"
  }
 },
 "nbformat": 4,
 "nbformat_minor": 2
}
