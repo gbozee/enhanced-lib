{
 "cells": [
  {
   "cell_type": "code",
   "execution_count": 6,
   "metadata": {},
   "outputs": [
    {
     "data": {
      "text/plain": [
       "{'size': 0.358,\n",
       " 'count': 8,\n",
       " 'avg': 43007.661852,\n",
       " 'last': 43405.1,\n",
       " 'fees': 1.569941,\n",
       " 'liquidation': 44086.516901,\n",
       " 'loss': -142.282857}"
      ]
     },
     "execution_count": 6,
     "metadata": {},
     "output_type": "execute_result"
    }
   ],
   "source": [
    "import cProfile \n",
    "import pstats\n",
    "from enhanced_lib.exchange import ExchangeCache,Database\n",
    "from enhanced_lib.exchange.types import TradeEntry\n",
    "\n",
    "db = Database('http://localhost:35969')\n",
    "# db = Database('http://localhost:8000')\n",
    "\n",
    "# await db.generate_and_save_future_trades('main_account','BTCUSDT','gbozee1_sub_account')\n",
    "account = 'gbozee1_sub_account'\n",
    "exchange = await db.get_initialized_exchange(account,'BTCUSDT',account,True)\n",
    "# exchange.open_orders.get_sl_orders('short',True)\n",
    "# uu = await exchange.account.get_trades(exchange.symbol)\n",
    "# kind = 'short'\n",
    "# index = -1\n",
    "# uu[kind][index]\n",
    "# longs = [TradeEntry(**x) for x in uu[kind]]\n",
    "# longs\n",
    "# longs[index].trades\n",
    "# for i in longs[index].trades:\n",
    "#     if i.get('take_profit'):\n",
    "#         print(i)\n",
    "# longs[index].trade_instances\n",
    "# target = 42460.4\n",
    "# longs[index].new_entry_at(41054.12)\n",
    "# longs[index].last_placed_trade(.077)\n",
    "# # longs[index].pnl_at_sell(42460.4)\n",
    "\n",
    "# longs[index].avg_entry(41054.12)\n",
    "exchange.open_orders.get_open_orders('short',True,449.362)\n",
    "# with cProfile.Profile() as profile:\n",
    "#     db.generate_future_trades(\n",
    "#         exchange,\n",
    "#         kind=None,\n",
    "#         full=True,\n",
    "#         no_of_cpu=1,\n",
    "#         ignore=True,\n",
    "#     )\n",
    "#     # profile.print_stats()\n",
    "# results = pstats.Stats(profile)\n",
    "# results.sort_stats(pstats.SortKey.TIME)\n",
    "# results.print_stats()\n",
    "# results.dump_stats('profile.prof')\n",
    "# exchange.open_orders.get_tp_orders('short',True)"
   ]
  },
  {
   "cell_type": "code",
   "execution_count": 1,
   "metadata": {},
   "outputs": [
    {
     "ename": "NameError",
     "evalue": "name 'future_instance' is not defined",
     "output_type": "error",
     "traceback": [
      "\u001b[0;31m---------------------------------------------------------------------------\u001b[0m",
      "\u001b[0;31mNameError\u001b[0m                                 Traceback (most recent call last)",
      "\u001b[1;32m/home/beesama/projects/bot-trader/enhanced-lib/service.ipynb Cell 2\u001b[0m line \u001b[0;36m4\n\u001b[1;32m      <a href='vscode-notebook-cell:/home/beesama/projects/bot-trader/enhanced-lib/service.ipynb#X16sZmlsZQ%3D%3D?line=1'>2</a>\u001b[0m \u001b[39mfrom\u001b[39;00m \u001b[39menhanced_lib\u001b[39;00m\u001b[39m.\u001b[39;00m\u001b[39mcalculations\u001b[39;00m\u001b[39m.\u001b[39;00m\u001b[39mworkers\u001b[39;00m\u001b[39m.\u001b[39;00m\u001b[39moptimum_risk_reward\u001b[39;00m \u001b[39mimport\u001b[39;00m eval_func,determine_optimum_reward,run_in_parallel\n\u001b[1;32m      <a href='vscode-notebook-cell:/home/beesama/projects/bot-trader/enhanced-lib/service.ipynb#X16sZmlsZQ%3D%3D?line=2'>3</a>\u001b[0m \u001b[39mfrom\u001b[39;00m \u001b[39menhanced_lib\u001b[39;00m\u001b[39m.\u001b[39;00m\u001b[39mcalculations\u001b[39;00m\u001b[39m.\u001b[39;00m\u001b[39mworkers\u001b[39;00m\u001b[39m.\u001b[39;00m\u001b[39mutils\u001b[39;00m \u001b[39mimport\u001b[39;00m chunks_in_threads,run_in_threads\n\u001b[0;32m----> <a href='vscode-notebook-cell:/home/beesama/projects/bot-trader/enhanced-lib/service.ipynb#X16sZmlsZQ%3D%3D?line=3'>4</a>\u001b[0m app_config \u001b[39m=\u001b[39m future_instance\u001b[39m.\u001b[39mconfig\u001b[39m.\u001b[39mapp_config\n\u001b[1;32m      <a href='vscode-notebook-cell:/home/beesama/projects/bot-trader/enhanced-lib/service.ipynb#X16sZmlsZQ%3D%3D?line=4'>5</a>\u001b[0m app_config\u001b[39m.\u001b[39mentry \u001b[39m=\u001b[39m \u001b[39m41993.9\u001b[39m\n\u001b[1;32m      <a href='vscode-notebook-cell:/home/beesama/projects/bot-trader/enhanced-lib/service.ipynb#X16sZmlsZQ%3D%3D?line=5'>6</a>\u001b[0m app_config\u001b[39m.\u001b[39mstop \u001b[39m=\u001b[39m \u001b[39m44779.3\u001b[39m\n",
      "\u001b[0;31mNameError\u001b[0m: name 'future_instance' is not defined"
     ]
    }
   ],
   "source": [
    "from enhanced_lib.calculations.shared import build_config\n",
    "from enhanced_lib.calculations.workers.optimum_risk_reward import eval_func,determine_optimum_reward,run_in_parallel\n",
    "from enhanced_lib.calculations.workers.utils import chunks_in_threads,run_in_threads\n",
    "app_config = future_instance.config.app_config\n",
    "app_config.entry = 41993.9\n",
    "app_config.stop = 44779.3\n",
    "app_config.kind = 'short'\n",
    "app_config.risk_reward = 80\n",
    "# app_config.risk_per_trade = 70\n",
    "print('app_config',app_config)\n",
    "# app_config.support = 41900\n",
    "# app_config.resistance  = 45000\n",
    "# signal = build_config(app_config,{\n",
    "#     # 'raw_instance':True,\n",
    "#     'decimal_places':app_config.decimal_places,\n",
    "#     'increase':True,\n",
    "#     'risk_reward':80,\n",
    "#     'risk_per_trade': 6,\n",
    "#     'entry': 44200,\n",
    "#     'kind': 'long',\n",
    "#     'stop': 42000,\n",
    "#     'currentEntry':44200\n",
    "# })\n",
    "# signal\n",
    "# # signal.get_bulk_trade_zones(44200,kind='long')\n",
    "app_config.strategy = 'entry'\n",
    "# eval_func(80,app_config)\n",
    "# for i in range(30,199,1):\n",
    "#     uu = eval_func(i,app_config)\n",
    "#     # print('uu',len(uu['result']))\n",
    "# func = run_in_parallel(eval_func, [(x,app_config) for x in range(30,199,1)],no_of_cpu=8)\n",
    "# func\n",
    "# bb = chunks_in_threads(eval_func, [(x,app_config) for x in range(30,199,1)],no_of_cpu=4,num_threads=40)\n",
    "# len(bb)\n",
    "# func = run_in_threads(eval_func, [(x,app_config) for x in range(30,199,1)],num_threads=2)\n",
    "# determine_optimum_reward(app_config)\n",
    "# exchange.future_instance.config.long_liquidation_price\n",
    "# exchange.get_next_tradable_zone('long')\n",
    "# exchange.get_next_tradable_zone('short')\n",
    "exchange.config_params_for_future_trades('short',True)"
   ]
  },
  {
   "cell_type": "code",
   "execution_count": 14,
   "metadata": {},
   "outputs": [
    {
     "name": "stdout",
     "output_type": "stream",
     "text": [
      "         43 function calls in 0.000 seconds\n",
      "\n",
      "   Ordered by: standard name\n",
      "\n",
      "   ncalls  tottime  percall  cumtime  percall filename:lineno(function)\n",
      "        1    0.000    0.000    0.000    0.000 cProfile.py:40(print_stats)\n",
      "        1    0.000    0.000    0.000    0.000 cProfile.py:50(create_stats)\n",
      "        1    0.000    0.000    0.000    0.000 pstats.py:107(__init__)\n",
      "        1    0.000    0.000    0.000    0.000 pstats.py:117(init)\n",
      "        1    0.000    0.000    0.000    0.000 pstats.py:136(load_stats)\n",
      "        1    0.000    0.000    0.000    0.000 trade_signal.py:24(_get_zone_nogen)\n",
      "       11    0.000    0.000    0.000    0.000 utils.py:54(to_f)\n",
      "        1    0.000    0.000    0.000    0.000 {built-in method builtins.hasattr}\n",
      "       12    0.000    0.000    0.000    0.000 {built-in method builtins.isinstance}\n",
      "        1    0.000    0.000    0.000    0.000 {built-in method builtins.len}\n",
      "       11    0.000    0.000    0.000    0.000 {method 'append' of 'list' objects}\n",
      "        1    0.000    0.000    0.000    0.000 {method 'disable' of '_lsprof.Profiler' objects}\n",
      "\n",
      "\n"
     ]
    }
   ],
   "source": [
    "from enhanced_lib.calculations.trade_signal import Signal,_get_zones,_get_zone_nogen\n",
    "import cProfile\n",
    "\n",
    "\n",
    "\n",
    "# [x for x in _get_zones(43500,18000,0.04,places='%.1f')]\n",
    "with cProfile.Profile() as profile:\n",
    "    _get_zone_nogen(43500,18000,0.04,places='%.1f')\n",
    "    # [x for x in _get_zone_nogen(43500,18000,0.04,places='%.1f')]\n",
    "    profile.print_stats()"
   ]
  }
 ],
 "metadata": {
  "kernelspec": {
   "display_name": "venv",
   "language": "python",
   "name": "python3"
  },
  "language_info": {
   "codemirror_mode": {
    "name": "ipython",
    "version": 3
   },
   "file_extension": ".py",
   "mimetype": "text/x-python",
   "name": "python",
   "nbconvert_exporter": "python",
   "pygments_lexer": "ipython3",
   "version": "3.10.2"
  }
 },
 "nbformat": 4,
 "nbformat_minor": 2
}
