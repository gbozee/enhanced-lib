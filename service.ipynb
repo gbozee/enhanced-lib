{
 "cells": [
  {
   "cell_type": "code",
   "execution_count": 1,
   "metadata": {},
   "outputs": [],
   "source": [
    "from enhanced_lib.exchange import ExchangeCache,Account\n",
    "\n",
    "account = Account(\n",
    "    'http://localhost:8000',\n",
    "    \"main_account\",\n",
    "    \"sub_account\",\n",
    ")\n",
    "\n",
    "exchange = ExchangeCache(account, \"BTCUSDT\")\n",
    "\n",
    "# await exchange.fetch_latest(False)\n",
    "\n",
    "# exchange.open_orders.get_tp_orders('long',True)\n",
    "\n",
    "# await account.fetch_config('BTCUSDT')\n",
    "await exchange.fetch_latest(True)\n",
    "# exchange.get_next_tradable_zone(\"long\")\n",
    "exchange.get_next_tradable_zone(\"short\")\n",
    "# exchange.get_zone_for_position('long')\n",
    "# exchange.maximum_sell_size\n",
    "# exchange.future_instance.config.get_trading_zones('kind')\n",
    "# exchange.open_orders.get_sl_orders('short',True)\n",
    "# await account.update_config_fields('BTCUSDT',{'budget':400,'max_size':0.21})\n",
    "# await account.update_config_resistance('BTCUSDT')\n",
    "# account.general_config['config']['BTCUSDT']\n",
    "# exchange.future_instance.config.as_dict()\n",
    "future_instance = exchange.future_instance\n",
    "\n",
    "# future_instance.get_trading_zones('long')\n",
    "# future_instance.config.long_liquidation_price\n",
    "# future_instance.config.as_dict()\n",
    "# zones = future_instance.config.get_trading_zones('short')\n",
    "# zones\n",
    "# stop = future_instance.config.long_liquidation_price\n",
    "# stop\n",
    "# app_config = future_instance.config.app_config\n",
    "# app_config.entry = 44779.3\n",
    "# app_config.stop = stop\n",
    "# # app_config.raw = True\n",
    "# # workers.determine_optimum_reward(app_config)\n",
    "# exchange.maximum_sell_size\n",
    "# exchange.get_zone_for_position('long')\n",
    "# exchange.get_zone_for_position('long')\n",
    "# exchange.get_next_tradable_zone('long')\n",
    "# exchange.config_params_for_future_trades2('long',True)"
   ]
  },
  {
   "cell_type": "code",
   "execution_count": 1,
   "metadata": {},
   "outputs": [
    {
     "ename": "NameError",
     "evalue": "name 'future_instance' is not defined",
     "output_type": "error",
     "traceback": [
      "\u001b[0;31m---------------------------------------------------------------------------\u001b[0m",
      "\u001b[0;31mNameError\u001b[0m                                 Traceback (most recent call last)",
      "\u001b[1;32m/home/beesama/projects/bot-trader/enhanced-lib/service.ipynb Cell 2\u001b[0m line \u001b[0;36m4\n\u001b[1;32m      <a href='vscode-notebook-cell:/home/beesama/projects/bot-trader/enhanced-lib/service.ipynb#W3sZmlsZQ%3D%3D?line=1'>2</a>\u001b[0m \u001b[39mfrom\u001b[39;00m \u001b[39menhanced_lib\u001b[39;00m\u001b[39m.\u001b[39;00m\u001b[39mcalculations\u001b[39;00m\u001b[39m.\u001b[39;00m\u001b[39mworkers\u001b[39;00m\u001b[39m.\u001b[39;00m\u001b[39moptimum_risk_reward\u001b[39;00m \u001b[39mimport\u001b[39;00m eval_func,determine_optimum_reward,run_in_parallel\n\u001b[1;32m      <a href='vscode-notebook-cell:/home/beesama/projects/bot-trader/enhanced-lib/service.ipynb#W3sZmlsZQ%3D%3D?line=2'>3</a>\u001b[0m \u001b[39mfrom\u001b[39;00m \u001b[39menhanced_lib\u001b[39;00m\u001b[39m.\u001b[39;00m\u001b[39mcalculations\u001b[39;00m\u001b[39m.\u001b[39;00m\u001b[39mworkers\u001b[39;00m\u001b[39m.\u001b[39;00m\u001b[39mutils\u001b[39;00m \u001b[39mimport\u001b[39;00m chunks_in_threads,run_in_threads\n\u001b[0;32m----> <a href='vscode-notebook-cell:/home/beesama/projects/bot-trader/enhanced-lib/service.ipynb#W3sZmlsZQ%3D%3D?line=3'>4</a>\u001b[0m app_config \u001b[39m=\u001b[39m future_instance\u001b[39m.\u001b[39mconfig\u001b[39m.\u001b[39mapp_config\n\u001b[1;32m      <a href='vscode-notebook-cell:/home/beesama/projects/bot-trader/enhanced-lib/service.ipynb#W3sZmlsZQ%3D%3D?line=4'>5</a>\u001b[0m app_config\u001b[39m.\u001b[39mentry \u001b[39m=\u001b[39m \u001b[39m41993.9\u001b[39m\n\u001b[1;32m      <a href='vscode-notebook-cell:/home/beesama/projects/bot-trader/enhanced-lib/service.ipynb#W3sZmlsZQ%3D%3D?line=5'>6</a>\u001b[0m app_config\u001b[39m.\u001b[39mstop \u001b[39m=\u001b[39m \u001b[39m44779.3\u001b[39m\n",
      "\u001b[0;31mNameError\u001b[0m: name 'future_instance' is not defined"
     ]
    }
   ],
   "source": [
    "from enhanced_lib.calculations.shared import build_config\n",
    "from enhanced_lib.calculations.workers.optimum_risk_reward import eval_func,determine_optimum_reward,run_in_parallel\n",
    "from enhanced_lib.calculations.workers.utils import chunks_in_threads,run_in_threads\n",
    "app_config = future_instance.config.app_config\n",
    "app_config.entry = 41993.9\n",
    "app_config.stop = 44779.3\n",
    "app_config.kind = 'short'\n",
    "app_config.risk_reward = 80\n",
    "# app_config.risk_per_trade = 70\n",
    "print('app_config',app_config)\n",
    "# app_config.support = 41900\n",
    "# app_config.resistance  = 45000\n",
    "# signal = build_config(app_config,{\n",
    "#     # 'raw_instance':True,\n",
    "#     'decimal_places':app_config.decimal_places,\n",
    "#     'increase':True,\n",
    "#     'risk_reward':80,\n",
    "#     'risk_per_trade': 6,\n",
    "#     'entry': 44200,\n",
    "#     'kind': 'long',\n",
    "#     'stop': 42000,\n",
    "#     'currentEntry':44200\n",
    "# })\n",
    "# signal\n",
    "# # signal.get_bulk_trade_zones(44200,kind='long')\n",
    "app_config.strategy = 'entry'\n",
    "# eval_func(80,app_config)\n",
    "# for i in range(30,199,1):\n",
    "#     uu = eval_func(i,app_config)\n",
    "#     # print('uu',len(uu['result']))\n",
    "# func = run_in_parallel(eval_func, [(x,app_config) for x in range(30,199,1)],no_of_cpu=8)\n",
    "# func\n",
    "# bb = chunks_in_threads(eval_func, [(x,app_config) for x in range(30,199,1)],no_of_cpu=4,num_threads=40)\n",
    "# len(bb)\n",
    "# func = run_in_threads(eval_func, [(x,app_config) for x in range(30,199,1)],num_threads=2)\n",
    "# determine_optimum_reward(app_config)\n",
    "# exchange.future_instance.config.long_liquidation_price\n",
    "# exchange.get_next_tradable_zone('long')\n",
    "# exchange.get_next_tradable_zone('short')\n",
    "exchange.config_params_for_future_trades('short',True,ignore=True)"
   ]
  }
 ],
 "metadata": {
  "kernelspec": {
   "display_name": "venv",
   "language": "python",
   "name": "python3"
  },
  "language_info": {
   "codemirror_mode": {
    "name": "ipython",
    "version": 3
   },
   "file_extension": ".py",
   "mimetype": "text/x-python",
   "name": "python",
   "nbconvert_exporter": "python",
   "pygments_lexer": "ipython3",
   "version": "3.8.12"
  }
 },
 "nbformat": 4,
 "nbformat_minor": 2
}
