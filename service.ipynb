{
 "cells": [
  {
   "cell_type": "code",
   "execution_count": 1,
   "metadata": {},
   "outputs": [
    {
     "data": {
      "text/plain": [
       "{'long': [{'entry': 48973.8,\n",
       "   'stop': 47702.0,\n",
       "   'risk_per_trade': 27.0,\n",
       "   'risk_reward': 37,\n",
       "   'size': 0.09000000000000002,\n",
       "   'trades': []},\n",
       "  {'entry': 49760.6,\n",
       "   'stop': 48973.8,\n",
       "   'risk_per_trade': 15.0,\n",
       "   'risk_reward': 33,\n",
       "   'size': 0.079,\n",
       "   'trades': []},\n",
       "  {'entry': 50396.4,\n",
       "   'stop': 49760.6,\n",
       "   'risk_per_trade': 12.0,\n",
       "   'risk_reward': 32,\n",
       "   'size': 0.079,\n",
       "   'trades': []},\n",
       "  {'entry': 51032.3,\n",
       "   'stop': 50396.4,\n",
       "   'risk_per_trade': 12.0,\n",
       "   'risk_reward': 32,\n",
       "   'size': 0.079,\n",
       "   'trades': []},\n",
       "  {'entry': 51953.8,\n",
       "   'stop': 51032.3,\n",
       "   'risk_per_trade': 18.0,\n",
       "   'risk_reward': 38,\n",
       "   'size': 0.08600000000000001,\n",
       "   'trades': []},\n",
       "  {'entry': 53090.9,\n",
       "   'stop': 51953.8,\n",
       "   'risk_per_trade': 24.0,\n",
       "   'risk_reward': 37,\n",
       "   'size': 0.09000000000000002,\n",
       "   'trades': []}],\n",
       " 'short': []}"
      ]
     },
     "execution_count": 1,
     "metadata": {},
     "output_type": "execute_result"
    }
   ],
   "source": [
    "import cProfile \n",
    "import pstats\n",
    "from enhanced_lib.exchange import ExchangeCache,Database\n",
    "from enhanced_lib.exchange.types import TradeEntry\n",
    "\n",
    "# db = Database('http://localhost:8000')\n",
    "db = Database('https://app-dev.beeola.me')\n",
    "\n",
    "# await db.generate_and_save_future_trades('main_account','BTCUSDT','gbozee1_sub_account')\n",
    "account = 'main_account'\n",
    "# account = 'gbozee1_sub_account'\n",
    "symbol = 'BTCUSDT'\n",
    "exchange = await db.get_initialized_exchange(account,symbol,account,True)\n",
    "# zones = exchange.future_instance.trade_entries\n",
    "# result = [{'entry':x['entry'],'stop':x['stop']} for x in zones]\n",
    "# # result\n",
    "# config = exchange.future_instance.config\n",
    "# config.strategy = 'quantity'\n",
    "# config.risk_per_trade = 1\n",
    "# config.determine_optimum_risk('short',result[1],max_size=.1,gap=.1,ignore=False)\n",
    "# risk_results = map(lambda x: config.determine_optimum_risk('long',x,max_size=.1,gap=.1),result)\n",
    "# print(list(risk_results))\n",
    "# result = exchange.get_calculations_for_kind(kind='long')\n",
    "# # result\n",
    "# await exchange.save_trades(result)\n",
    "trades = await exchange.get_trades()\n",
    "trades\n",
    "# exchange.build_trade_zones(trades,kind='long',fee_percent=.07)\n",
    "# longs[index].avg_entry(41054.12)\n",
    "# exchange.open_orders.get_open_orders('short',True,500)\n",
    "# with cProfile.Profile() as profile:\n",
    "#     db.generate_future_trades(\n",
    "#         exchange,\n",
    "#         kind=None,\n",
    "#         full=True,\n",
    "#         no_of_cpu=1,\n",
    "#         ignore=True,\n",
    "#     )\n",
    "#     # profile.print_stats()\n",
    "# results = pstats.Stats(profile)\n",
    "# results.sort_stats(pstats.SortKey.TIME)\n",
    "# results.print_stats()\n",
    "# results.dump_stats('profile.prof')\n",
    "# exchange.open_orders.get_tp_orders('short',True)"
   ]
  },
  {
   "cell_type": "code",
   "execution_count": 2,
   "metadata": {},
   "outputs": [
    {
     "data": {
      "text/plain": [
       "{'position': {'entry': 51025.517391, 'size': 0.046},\n",
       " 'tp': {'entry': 52859.1, 'size': 0.046},\n",
       " 'pnl': 84.3448,\n",
       " 'remaining_size': 0.0,\n",
       " 'fees': 0.486}"
      ]
     },
     "execution_count": 2,
     "metadata": {},
     "output_type": "execute_result"
    }
   ],
   "source": [
    "import cProfile \n",
    "import pstats\n",
    "from enhanced_lib.exchange import ExchangeCache,Database\n",
    "from enhanced_lib.exchange.types import TradeEntry\n",
    "\n",
    "# db = Database('http://localhost:35969')\n",
    "db = Database('https://app-dev.beeola.me')\n",
    "\n",
    "# await db.generate_and_save_future_trades('main_account','BTCUSDT','gbozee1_sub_account')\n",
    "# account = 'main_account'\n",
    "account = 'main_account'\n",
    "symbol = 'BTCUSDT'\n",
    "exchange = await db.get_initialized_exchange(account,symbol,account,True)\n",
    "exchange.open_orders.get_tp_orders('long',True)"
   ]
  },
  {
   "cell_type": "code",
   "execution_count": 2,
   "metadata": {},
   "outputs": [
    {
     "ename": "NameError",
     "evalue": "name 'future_instance' is not defined",
     "output_type": "error",
     "traceback": [
      "\u001b[0;31m---------------------------------------------------------------------------\u001b[0m",
      "\u001b[0;31mNameError\u001b[0m                                 Traceback (most recent call last)",
      "Cell \u001b[0;32mIn[2], line 4\u001b[0m\n\u001b[1;32m      2\u001b[0m \u001b[39mfrom\u001b[39;00m \u001b[39menhanced_lib\u001b[39;00m\u001b[39m.\u001b[39;00m\u001b[39mcalculations\u001b[39;00m\u001b[39m.\u001b[39;00m\u001b[39mworkers\u001b[39;00m\u001b[39m.\u001b[39;00m\u001b[39moptimum_risk_reward\u001b[39;00m \u001b[39mimport\u001b[39;00m eval_func,determine_optimum_reward,run_in_parallel\n\u001b[1;32m      3\u001b[0m \u001b[39mfrom\u001b[39;00m \u001b[39menhanced_lib\u001b[39;00m\u001b[39m.\u001b[39;00m\u001b[39mcalculations\u001b[39;00m\u001b[39m.\u001b[39;00m\u001b[39mworkers\u001b[39;00m\u001b[39m.\u001b[39;00m\u001b[39mutils\u001b[39;00m \u001b[39mimport\u001b[39;00m chunks_in_threads,run_in_threads\n\u001b[0;32m----> 4\u001b[0m app_config \u001b[39m=\u001b[39m future_instance\u001b[39m.\u001b[39mconfig\u001b[39m.\u001b[39mapp_config\n\u001b[1;32m      5\u001b[0m app_config\u001b[39m.\u001b[39mentry \u001b[39m=\u001b[39m \u001b[39m41993.9\u001b[39m\n\u001b[1;32m      6\u001b[0m app_config\u001b[39m.\u001b[39mstop \u001b[39m=\u001b[39m \u001b[39m44779.3\u001b[39m\n",
      "\u001b[0;31mNameError\u001b[0m: name 'future_instance' is not defined"
     ]
    }
   ],
   "source": [
    "from enhanced_lib.calculations.shared import build_config\n",
    "from enhanced_lib.calculations.workers.optimum_risk_reward import eval_func,determine_optimum_reward,run_in_parallel\n",
    "from enhanced_lib.calculations.workers.utils import chunks_in_threads,run_in_threads\n",
    "app_config = future_instance.config.app_config\n",
    "app_config.entry = 41993.9\n",
    "app_config.stop = 44779.3\n",
    "app_config.kind = 'short'\n",
    "app_config.risk_reward = 80\n",
    "# app_config.risk_per_trade = 70\n",
    "print('app_config',app_config)\n",
    "# app_config.support = 41900\n",
    "# app_config.resistance  = 45000\n",
    "# signal = build_config(app_config,{\n",
    "#     # 'raw_instance':True,\n",
    "#     'decimal_places':app_config.decimal_places,\n",
    "#     'increase':True,\n",
    "#     'risk_reward':80,\n",
    "#     'risk_per_trade': 6,\n",
    "#     'entry': 44200,\n",
    "#     'kind': 'long',\n",
    "#     'stop': 42000,\n",
    "#     'currentEntry':44200\n",
    "# })\n",
    "# signal\n",
    "# # signal.get_bulk_trade_zones(44200,kind='long')\n",
    "app_config.strategy = 'entry'\n",
    "# eval_func(80,app_config)\n",
    "# for i in range(30,199,1):\n",
    "#     uu = eval_func(i,app_config)\n",
    "#     # print('uu',len(uu['result']))\n",
    "# func = run_in_parallel(eval_func, [(x,app_config) for x in range(30,199,1)],no_of_cpu=8)\n",
    "# func\n",
    "# bb = chunks_in_threads(eval_func, [(x,app_config) for x in range(30,199,1)],no_of_cpu=4,num_threads=40)\n",
    "# len(bb)\n",
    "# func = run_in_threads(eval_func, [(x,app_config) for x in range(30,199,1)],num_threads=2)\n",
    "# determine_optimum_reward(app_config)\n",
    "# exchange.future_instance.config.long_liquidation_price\n",
    "# exchange.get_next_tradable_zone('long')\n",
    "# exchange.get_next_tradable_zone('short')\n",
    "exchange.config_params_for_future_trades('short',True)"
   ]
  },
  {
   "cell_type": "code",
   "execution_count": 14,
   "metadata": {},
   "outputs": [
    {
     "name": "stdout",
     "output_type": "stream",
     "text": [
      "         43 function calls in 0.000 seconds\n",
      "\n",
      "   Ordered by: standard name\n",
      "\n",
      "   ncalls  tottime  percall  cumtime  percall filename:lineno(function)\n",
      "        1    0.000    0.000    0.000    0.000 cProfile.py:40(print_stats)\n",
      "        1    0.000    0.000    0.000    0.000 cProfile.py:50(create_stats)\n",
      "        1    0.000    0.000    0.000    0.000 pstats.py:107(__init__)\n",
      "        1    0.000    0.000    0.000    0.000 pstats.py:117(init)\n",
      "        1    0.000    0.000    0.000    0.000 pstats.py:136(load_stats)\n",
      "        1    0.000    0.000    0.000    0.000 trade_signal.py:24(_get_zone_nogen)\n",
      "       11    0.000    0.000    0.000    0.000 utils.py:54(to_f)\n",
      "        1    0.000    0.000    0.000    0.000 {built-in method builtins.hasattr}\n",
      "       12    0.000    0.000    0.000    0.000 {built-in method builtins.isinstance}\n",
      "        1    0.000    0.000    0.000    0.000 {built-in method builtins.len}\n",
      "       11    0.000    0.000    0.000    0.000 {method 'append' of 'list' objects}\n",
      "        1    0.000    0.000    0.000    0.000 {method 'disable' of '_lsprof.Profiler' objects}\n",
      "\n",
      "\n"
     ]
    }
   ],
   "source": [
    "from enhanced_lib.calculations.trade_signal import Signal,_get_zones,_get_zone_nogen\n",
    "import cProfile\n",
    "\n",
    "\n",
    "\n",
    "# [x for x in _get_zones(43500,18000,0.04,places='%.1f')]\n",
    "with cProfile.Profile() as profile:\n",
    "    _get_zone_nogen(43500,18000,0.04,places='%.1f')\n",
    "    # [x for x in _get_zone_nogen(43500,18000,0.04,places='%.1f')]\n",
    "    profile.print_stats()"
   ]
  },
  {
   "cell_type": "code",
   "execution_count": 6,
   "metadata": {},
   "outputs": [],
   "source": [
    "from enhanced_lib.exchange import Database\n",
    "\n",
    "db = Database(\"http://localhost:8000\")\n",
    "exchange = await db.get_initialized_exchange(\n",
    "    \"main_account\", \"BTCUSDT\", \"main_account\"\n",
    ")\n",
    "\n"
   ]
  },
  {
   "cell_type": "code",
   "execution_count": 9,
   "metadata": {},
   "outputs": [
    {
     "data": {
      "text/plain": [
       "177"
      ]
     },
     "execution_count": 9,
     "metadata": {},
     "output_type": "execute_result"
    }
   ],
   "source": [
    "\n",
    "from enhanced_lib.calculations import workers\n",
    "\n",
    "future_instance = exchange.future_instance\n",
    "\n",
    "# exchange.open_orders.get_sl_orders(\"short\", True)\n",
    "\n",
    "# future_instance.get_trading_zones('long')\n",
    "# future_instance.config.long_liquidation_price\n",
    "# future_instance.config.as_dict()\n",
    "zones = future_instance.config.get_trading_zones('short')\n",
    "# zones\n",
    "stop = future_instance.config.long_liquidation_price\n",
    "stop\n",
    "app_config = future_instance.config.app_config\n",
    "app_config.entry = 44779.3\n",
    "app_config.stop = 43000\n",
    "# app_config.raw = True\n",
    "workers.determine_optimum_reward(app_config,ignore=True)\n",
    "# # future_instance.config.determine_optimum_risk('long',{\n",
    "# #     'entry': 44779.3,\n",
    "# #     'stop': stop\n",
    "# # })\n",
    "# exchange.maximum_sell_size\n",
    "# exchange.get_zone_for_position('long')\n",
    "# exchange.get_zone_for_position('long')\n",
    "# exchange.get_next_tradable_zone('long')\n",
    "# exchange.config_params_for_future_trades2(\"long\", True)"
   ]
  },
  {
   "cell_type": "code",
   "execution_count": 2,
   "metadata": {},
   "outputs": [
    {
     "data": {
      "text/plain": [
       "{'result': [{'entry': 323.5,\n",
       "   'risk': 6.0,\n",
       "   'quantity': 0.72,\n",
       "   'sell_price': 335.20684,\n",
       "   'incurred_sell': 337.3,\n",
       "   'stop': 315.22,\n",
       "   'pnl': 8.43,\n",
       "   'fee': 0.074,\n",
       "   'net': 10.642,\n",
       "   'incurred': 5.394,\n",
       "   'stop_percent': 0.011,\n",
       "   'rr': 6,\n",
       "   'avg_entry': 323.5,\n",
       "   'avg_size': 0.72,\n",
       "   'start_entry': 335.20684}],\n",
       " 'value': 6,\n",
       " 'total': 0.72,\n",
       " 'max': 0.72,\n",
       " 'min': 0.72,\n",
       " 'entry': 323.5,\n",
       " 'max_index': 0}"
      ]
     },
     "execution_count": 2,
     "metadata": {},
     "output_type": "execute_result"
    }
   ],
   "source": [
    "from enhanced_lib.calculations.workers.optimum_risk_reward import (\n",
    "    size_resolver,\n",
    "    AppConfig,\n",
    "    determine_optimum_reward,\n",
    "    determine_optimum_risk,\n",
    "    eval_func,\n",
    ")\n",
    "\n",
    "# unique[39983.3, 40624.4412, 41021.0794, 41341.65, 41662.2206, 42126.7763, 42700.0]\n",
    "payload = {\n",
    "    \"current_risk\": 30,\n",
    "    \"app_config\": AppConfig(\n",
    "        fee=0.06,\n",
    "        risk_per_trade=6,\n",
    "        risk_reward=1,\n",
    "        focus=303.4,\n",
    "        budget=500,\n",
    "        support=315.22,\n",
    "        resistance=399.91,\n",
    "        percent_change=0.08,\n",
    "        tradeSplit=5,\n",
    "        take_profit=None,\n",
    "        kind=\"long\",\n",
    "        entry=335.20684,\n",
    "        stop=315.22,\n",
    "        min_size=0.7,\n",
    "        minimum_size=0.7,\n",
    "        price_places=\"%.2f\",\n",
    "        decimal_places=\"%.2f\",\n",
    "        strategy=\"quantity\",\n",
    "        as_array=None,\n",
    "        raw=None,\n",
    "    ),\n",
    "    \"no_of_cpu\": 4,\n",
    "    \"with_trades\": False,\n",
    "    \"ignore\": False,\n",
    "}\n",
    "# determine_optimum_risk(payload[\"app_config\"], 0.1, 0.1, 10)\n",
    "# size_resolver(9, payload[\"app_config\"])\n",
    "# determine_optimum_reward(payload[\"app_config\"], ignore=True)\n",
    "# determine_optimum_reward(payload[\"app_config\"], 0.1, 0.1, ignore=False)\n",
    "# for i in range(30, 199, 1):\n",
    "#     print(\"i \", i)\n",
    "#     print(eval_func(i, payload[\"app_config\"]))\n",
    "eval_func(6, payload[\"app_config\"])"
   ]
  }
 ],
 "metadata": {
  "kernelspec": {
   "display_name": "venv",
   "language": "python",
   "name": "python3"
  },
  "language_info": {
   "codemirror_mode": {
    "name": "ipython",
    "version": 3
   },
   "file_extension": ".py",
   "mimetype": "text/x-python",
   "name": "python",
   "nbconvert_exporter": "python",
   "pygments_lexer": "ipython3",
   "version": "3.10.2"
  }
 },
 "nbformat": 4,
 "nbformat_minor": 2
}
